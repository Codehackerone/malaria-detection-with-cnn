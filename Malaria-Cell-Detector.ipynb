{
 "cells": [
  {
   "cell_type": "code",
   "execution_count": 9,
   "id": "sexual-agenda",
   "metadata": {},
   "outputs": [],
   "source": [
    "import os"
   ]
  },
  {
   "cell_type": "code",
   "execution_count": 13,
   "id": "diverse-psychology",
   "metadata": {},
   "outputs": [
    {
     "data": {
      "text/plain": [
       "['test', 'train']"
      ]
     },
     "execution_count": 13,
     "metadata": {},
     "output_type": "execute_result"
    }
   ],
   "source": [
    "data_dir='cell_images'\n",
    "os.listdir(data_dir)"
   ]
  },
  {
   "cell_type": "code",
   "execution_count": 14,
   "id": "interesting-finding",
   "metadata": {},
   "outputs": [],
   "source": [
    "import pandas as pd\n",
    "import numpy as np\n",
    "import seaborn as sns\n",
    "import matplotlib.pyplot as plt\n",
    "from matplotlib.image import imread\n",
    "%matplotlib inline"
   ]
  },
  {
   "cell_type": "code",
   "execution_count": 20,
   "id": "measured-arthur",
   "metadata": {},
   "outputs": [],
   "source": [
    "test_path=data_dir+'/test'\n",
    "train_path=data_dir+'/train'"
   ]
  },
  {
   "cell_type": "code",
   "execution_count": 21,
   "id": "peripheral-contract",
   "metadata": {},
   "outputs": [
    {
     "data": {
      "text/plain": [
       "['parasitized', 'uninfected']"
      ]
     },
     "execution_count": 21,
     "metadata": {},
     "output_type": "execute_result"
    }
   ],
   "source": [
    "os.listdir(test_path)"
   ]
  },
  {
   "cell_type": "code",
   "execution_count": 22,
   "id": "animal-prospect",
   "metadata": {},
   "outputs": [
    {
     "data": {
      "text/plain": [
       "['parasitized', 'uninfected']"
      ]
     },
     "execution_count": 22,
     "metadata": {},
     "output_type": "execute_result"
    }
   ],
   "source": [
    "os.listdir(train_path)"
   ]
  },
  {
   "cell_type": "code",
   "execution_count": 23,
   "id": "comprehensive-reward",
   "metadata": {},
   "outputs": [
    {
     "data": {
      "text/plain": [
       "['C189P150ThinF_IMG_20151203_142224_cell_84.png',\n",
       " 'C91P52ThinF_IMG_20150821_123116_cell_189.png',\n",
       " 'C84P45ThinF_IMG_20150818_101226_cell_98.png',\n",
       " 'C144P105ThinF_IMG_20151015_163432_cell_310.png',\n",
       " 'C136P97ThinF_IMG_20151005_141803_cell_131.png',\n",
       " 'C60P21thinF_IMG_20150804_105034_cell_105.png',\n",
       " 'C176P137NThinF_IMG_20151201_122708_cell_126.png',\n",
       " 'C136P97ThinF_IMG_20151005_142437_cell_119.png',\n",
       " 'C173P134NThinF_IMG_20151130_115733_cell_227.png',\n",
       " 'C85P46ThinF_IMG_20150820_105154_cell_221.png',\n",
       " 'C101P62ThinF_IMG_20150918_151507_cell_49.png',\n",
       " 'C116P77ThinF_IMG_20150930_171844_cell_100.png',\n",
       " 'C48P9thinF_IMG_20150721_160406_cell_247.png',\n",
       " 'C184P145ThinF_IMG_20151203_103114_cell_149.png',\n",
       " 'C99P60ThinF_IMG_20150918_141620_cell_56.png',\n",
       " 'C132P93ThinF_IMG_20151004_152045_cell_111.png',\n",
       " 'C68P29N_ThinF_IMG_20150819_134112_cell_153.png',\n",
       " 'C116P77ThinF_IMG_20150930_171844_cell_114.png',\n",
       " 'C171P132ThinF_IMG_20151119_153150_cell_222.png',\n",
       " 'C176P137NThinF_IMG_20151201_122708_cell_132.png',\n",
       " 'C175P136NThinF_IMG_20151127_141325_cell_219.png',\n",
       " 'C132P93ThinF_IMG_20151004_151733_cell_140.png',\n",
       " 'C173P134NThinF_IMG_20151130_125501_cell_255.png',\n",
       " 'C60P21thinF_IMG_20150804_105034_cell_111.png',\n",
       " 'C118P79ThinF_IMG_20151002_105018_cell_144.png',\n",
       " 'C51AP12thinF_IMG_20150724_153313_cell_109.png',\n",
       " 'C189P150ThinF_IMG_20151203_142224_cell_90.png',\n",
       " 'C144P105ThinF_IMG_20151015_163432_cell_304.png',\n",
       " 'C136P97ThinF_IMG_20151005_141803_cell_125.png',\n",
       " 'C65P26N_ThinF_IMG_20150818_154010_cell_200.png',\n",
       " 'C98P59ThinF_IMG_20150917_154235_cell_209.png',\n",
       " 'C174P135NThinF_IMG_20151127_135512_cell_180.png',\n",
       " 'C172P133ThinF_IMG_20151119_155019_cell_241.png',\n",
       " 'C50P11thinF_IMG_20150724_115651_cell_190.png',\n",
       " 'C132P93ThinF_IMG_20151004_152505_cell_149.png',\n",
       " 'C184P145ThinF_IMG_20151203_102721_cell_1.png',\n",
       " 'C81P42ThinF_IMG_20150817_120351_cell_190.png',\n",
       " 'C177P138NThinF_IMG_20151201_143704_cell_176.png',\n",
       " 'C184P145ThinF_IMG_20151203_103114_cell_175.png',\n",
       " 'C80P41ThinF_IMG_20150817_110834_cell_145.png',\n",
       " 'C39P4thinF_original_IMG_20150622_113842_cell_12.png',\n",
       " 'C84P45ThinF_IMG_20150818_102325_cell_93.png',\n",
       " 'C136P97ThinF_IMG_20151005_142437_cell_125.png',\n",
       " 'C132P93ThinF_IMG_20151004_151733_cell_168.png',\n",
       " 'C97P58ThinF_IMG_20150917_152225_cell_23.png',\n",
       " 'C120P81ThinF_IMG_20151002_130715_cell_187.png',\n",
       " 'C136P97ThinF_IMG_20151005_142437_cell_131.png',\n",
       " 'C80P41ThinF_IMG_20150817_112329_cell_8.png',\n",
       " 'C175P136NThinF_IMG_20151127_141325_cell_225.png',\n",
       " 'C68P29N_ThinF_IMG_20150819_133236_cell_136.png',\n",
       " 'C84P45ThinF_IMG_20150818_101146_cell_101.png',\n",
       " 'C101P62ThinF_IMG_20150918_151507_cell_61.png',\n",
       " 'C184P145ThinF_IMG_20151203_103114_cell_161.png',\n",
       " 'C81P42ThinF_IMG_20150817_120351_cell_184.png',\n",
       " 'C116P77ThinF_IMG_20150930_171844_cell_128.png',\n",
       " 'C183P144NThinF_IMG_20151201_222119_cell_140.png',\n",
       " 'C64P25N_ThinF_IMG_20150818_153401_cell_194.png',\n",
       " 'C132P93ThinF_IMG_20151004_152045_cell_139.png',\n",
       " 'C136P97ThinF_IMG_20151005_141803_cell_119.png',\n",
       " 'C67P28N_ThinF_IMG_20150819_121456_cell_249.png',\n",
       " 'C182P143NThinF_IMG_20151201_172057_cell_157.png',\n",
       " 'C76P37ThinF_IMG_20150815_165356_cell_180.png',\n",
       " 'C176P137NThinF_IMG_20151201_120612_cell_10.png',\n",
       " 'C116P77ThinF_IMG_20150930_171558_cell_98.png',\n",
       " 'C167P128ReThinF_IMG_20151201_105354_cell_237.png',\n",
       " 'C136P97ThinF_IMG_20151005_143743_cell_106.png',\n",
       " 'C182P143NThinF_IMG_20151201_172759_cell_43.png',\n",
       " 'C189P150ThinF_IMG_20151203_142113_cell_91.png',\n",
       " 'C77P38ThinF_IMG_20150601_155125_cell_131.png',\n",
       " 'C174P135NThinF_IMG_20151127_135311_cell_206.png',\n",
       " 'C51AP12thinF_IMG_20150724_154330_cell_126.png',\n",
       " 'C130P91ThinF_IMG_20151004_141428_cell_125.png',\n",
       " 'C39P4thinF_original_IMG_20150622_105554_cell_8.png',\n",
       " 'C99P60ThinF_IMG_20150918_142128_cell_102.png',\n",
       " 'C80P41ThinF_IMG_20150817_110957_cell_143.png',\n",
       " 'C45P6ThinF_IMG_20151130_155110_cell_195.png',\n",
       " 'C48P9thinF_IMG_20150721_161412_cell_185.png',\n",
       " 'C59P20thinF_IMG_20150803_113430_cell_32.png',\n",
       " 'C62P23N_ThinF_IMG_20150818_133527_cell_200.png',\n",
       " 'C132P93ThinF_IMG_20151004_151733_cell_183.png',\n",
       " 'C59P20thinF_IMG_20150803_113430_cell_26.png',\n",
       " 'C48P9thinF_IMG_20150721_161412_cell_191.png',\n",
       " 'C39P4thinF_original_IMG_20150622_111942_cell_8.png',\n",
       " 'C99P60ThinF_IMG_20150918_142128_cell_116.png',\n",
       " 'C127P88ThinF_IMG_20151004_111436_cell_123.png',\n",
       " 'C144P105ThinF_IMG_20151015_160529_cell_277.png',\n",
       " 'C39P4thinF_original_IMG_20150622_113446_cell_28.png',\n",
       " 'C130P91ThinF_IMG_20151004_142109_cell_135.png',\n",
       " 'C136P97ThinF_IMG_20151005_144449_cell_3.png',\n",
       " 'C176P137NThinF_IMG_20151201_114035_cell_138.png',\n",
       " 'C130P91ThinF_IMG_20151004_141428_cell_131.png',\n",
       " 'C123P84ThinF_IMG_20151002_150931_cell_201.png',\n",
       " 'C128P89ThinF_IMG_20151004_131030_cell_166.png',\n",
       " 'C136P97ThinF_IMG_20151005_143743_cell_112.png',\n",
       " 'C80P41ThinF_IMG_20150817_111943_cell_18.png',\n",
       " 'C68P29N_ThinF_IMG_20150819_134625_cell_14.png',\n",
       " 'C189P150ThinF_IMG_20151203_142113_cell_85.png',\n",
       " 'C133P94ThinF_IMG_20151004_155331_cell_116.png',\n",
       " 'C133P94ThinF_IMG_20151004_154717_cell_136.png',\n",
       " 'C91P52ThinF_IMG_20150821_123116_cell_176.png',\n",
       " 'C118P79ThinF_IMG_20151002_104831_cell_150.png',\n",
       " 'C181P142ThinF_IMG_20151127_160434_cell_159.png',\n",
       " 'C82P43ThinF_IMG_20150817_123500_cell_236.png',\n",
       " 'C84P45ThinF_IMG_20150818_104849_cell_17.png',\n",
       " 'C102P63ThinF_IMG_20150918_161826_cell_170.png',\n",
       " 'C159P120ThinF_IMG_20151115_190812_cell_242.png',\n",
       " 'C124P85ThinF_IMG_20151002_153825_cell_194.png',\n",
       " 'C63P24N_ThinF_IMG_20150818_144456_cell_179.png',\n",
       " 'C174P135NThinF_IMG_20151127_135435_cell_206.png',\n",
       " 'C180P141NThinF_IMG_20151201_170021_cell_27.png',\n",
       " 'C182P143NThinF_IMG_20151201_172842_cell_32.png',\n",
       " 'C159P120ThinF_IMG_20151115_190421_cell_207.png',\n",
       " 'C180P141NThinF_IMG_20151201_165453_cell_13.png',\n",
       " 'C174P135NThinF_IMG_20151127_135435_cell_212.png',\n",
       " 'C175P136NThinF_IMG_20151127_142326_cell_240.png',\n",
       " 'C182P143NThinF_IMG_20151201_172842_cell_26.png',\n",
       " 'C180P141NThinF_IMG_20151201_170021_cell_33.png',\n",
       " 'C99P60ThinF_IMG_20150918_142334_cell_43.png',\n",
       " 'C82P43ThinF_IMG_20150817_123500_cell_222.png',\n",
       " 'C129P90ThinF_IMG_20151004_134520_cell_122.png',\n",
       " 'C118P79ThinF_IMG_20151002_104831_cell_144.png',\n",
       " 'C66P27N_ThinF_IMG_20150818_164008_cell_156.png',\n",
       " 'C88P49ThinF_IMG_20150820_153042_cell_214.png',\n",
       " 'C68P29N_ThinF_IMG_20150819_134625_cell_28.png',\n",
       " 'C39P4thinF_original_IMG_20150622_113446_cell_14.png',\n",
       " 'C133P94ThinF_IMG_20151004_154717_cell_122.png',\n",
       " 'C39P4thinF_original_IMG_20150622_110352_cell_105.png',\n",
       " 'C186P147NThinF_IMG_20151203_150222_cell_171.png',\n",
       " 'C186P147NThinF_IMG_20151203_150557_cell_192.png',\n",
       " 'C116P77ThinF_IMG_20150930_171809_cell_65.png',\n",
       " 'C68P29N_ThinF_IMG_20150819_134830_cell_64.png',\n",
       " 'C74P35_ThinF_IMG_20150815_114555_cell_130.png',\n",
       " 'C116P77ThinF_IMG_20150930_171448_cell_100.png',\n",
       " 'C184P145ThinF_IMG_20151203_103637_cell_175.png',\n",
       " 'C113P74ThinF_IMG_20150930_134429_cell_182.png',\n",
       " 'C99P60ThinF_IMG_20150918_141520_cell_90.png',\n",
       " 'C56P17thinF_IMG_20150728_160537_cell_152.png',\n",
       " 'C93P54ThinF_IMG_20150821_163815_cell_215.png',\n",
       " 'C137P98ThinF_IMG_20151005_161659_cell_5.png',\n",
       " 'C87P48ThinF_IMG_20150820_144855_cell_183.png',\n",
       " 'C143P104ThinF_IMG_20151005_230100_cell_160.png',\n",
       " 'C68P29N_ThinF_IMG_20150819_134830_cell_70.png',\n",
       " 'C101P62ThinF_IMG_20150923_165215_cell_17.png',\n",
       " 'C186P147NThinF_IMG_20151203_150859_cell_166.png',\n",
       " 'C116P77ThinF_IMG_20150930_171809_cell_71.png',\n",
       " 'C101P62ThinF_IMG_20150923_170344_cell_78.png',\n",
       " 'C39P4thinF_original_IMG_20150622_110352_cell_111.png',\n",
       " 'C186P147NThinF_IMG_20151203_150557_cell_186.png',\n",
       " 'C129P90ThinF_IMG_20151004_134306_cell_129.png',\n",
       " 'C174P135NThinF_IMG_20151127_135554_cell_186.png',\n",
       " 'C116P77ThinF_IMG_20150930_171809_cell_59.png',\n",
       " 'C179P140ThinF_IMG_20151127_153852_cell_167.png',\n",
       " 'C68P29N_ThinF_IMG_20150819_134830_cell_3.png',\n",
       " 'C68P29N_ThinF_IMG_20150819_134712_cell_36.png',\n",
       " 'C129P90ThinF_IMG_20151004_133538_cell_94.png',\n",
       " 'C172P133ThinF_IMG_20151119_155343_cell_277.png',\n",
       " 'C187P148NThinF_IMG_20151203_153713_cell_195.png',\n",
       " 'C51AP12thinF_IMG_20150724_155557_cell_81.png',\n",
       " 'C99P60ThinF_IMG_20150918_141001_cell_133.png',\n",
       " 'C68P29N_ThinF_IMG_20150819_134830_cell_58.png',\n",
       " 'C184P145ThinF_IMG_20151203_103637_cell_149.png',\n",
       " 'C132P93ThinF_IMG_20151004_153030_cell_42.png',\n",
       " 'C99P60ThinF_IMG_20150918_141001_cell_127.png',\n",
       " 'C129P90ThinF_IMG_20151004_134636_cell_8.png',\n",
       " 'C156P117ThinF_IMG_20151115_153831_cell_257.png',\n",
       " 'C129P90ThinF_IMG_20151004_133538_cell_80.png',\n",
       " 'C117P78ThinF_IMG_20150930_215322_cell_83.png',\n",
       " 'C68P29N_ThinF_IMG_20150819_134712_cell_22.png',\n",
       " 'C184P145ThinF_IMG_20151203_102543_cell_181.png',\n",
       " 'C184P145ThinF_IMG_20151203_104030_cell_28.png',\n",
       " 'C111P72ThinF_IMG_20150930_113049_cell_166.png',\n",
       " 'C70P31_ThinF_IMG_20150813_131609_cell_105.png',\n",
       " 'C48P9thinF_IMG_20150721_164031_cell_1.png',\n",
       " 'C120P81ThinF_IMG_20151002_130150_cell_207.png',\n",
       " 'C97P58ThinF_IMG_20150917_150838_cell_161.png',\n",
       " 'C172P133ThinF_IMG_20151119_155343_cell_288.png',\n",
       " 'C63P24N_ThinF_IMG_20150818_143423_cell_162.png',\n",
       " 'C98P59ThinF_IMG_20150917_154452_cell_204.png',\n",
       " 'C59P20thinF_IMG_20150803_112733_cell_204.png',\n",
       " 'C99P60ThinF_IMG_20150918_141857_cell_14.png',\n",
       " 'C178P139NThinF_IMG_20151201_154735_cell_166.png',\n",
       " 'C91P52ThinF_IMG_20150821_124937_cell_209.png',\n",
       " 'C60P21thinF_IMG_20150804_113011_cell_11.png',\n",
       " 'C131P92ThinF_IMG_20151004_151126_cell_123.png',\n",
       " 'C91P52ThinF_IMG_20150821_124937_cell_221.png',\n",
       " 'C184P145ThinF_IMG_20151203_104334_cell_52.png',\n",
       " 'C101P62ThinF_IMG_20150918_151335_cell_56.png',\n",
       " 'C184P145ThinF_IMG_20151203_104030_cell_14.png',\n",
       " 'C180P141NThinF_IMG_20151201_163702_cell_170.png',\n",
       " 'C184P145ThinF_IMG_20151203_102543_cell_156.png',\n",
       " 'C166P127ThinF_IMG_20151117_193931_cell_211.png',\n",
       " 'C101P62ThinF_IMG_20150923_170344_cell_93.png',\n",
       " 'C176P137NThinF_IMG_20151201_121030_cell_18.png',\n",
       " 'C59P20thinF_IMG_20150803_112802_cell_172.png',\n",
       " 'C99P60ThinF_IMG_20150918_141857_cell_28.png',\n",
       " 'C50P11thinF_IMG_20150724_115603_cell_153.png',\n",
       " 'C131P92ThinF_IMG_20151004_150208_cell_140.png',\n",
       " 'C184P145ThinF_IMG_20151203_103326_cell_131.png',\n",
       " 'C97P58ThinF_IMG_20150917_150838_cell_149.png',\n",
       " 'C184P145ThinF_IMG_20151203_103326_cell_125.png',\n",
       " 'C59P20thinF_IMG_20150803_112802_cell_166.png',\n",
       " 'C118P79ThinF_IMG_20151002_110942_cell_1.png',\n",
       " 'C180P141NThinF_IMG_20151201_165423_cell_180.png',\n",
       " 'C52P13thinF_IMG_20150725_123938_cell_196.png',\n",
       " 'C172P133ThinF_IMG_20151119_154936_cell_256.png',\n",
       " 'C184P145ThinF_IMG_20151203_102543_cell_142.png',\n",
       " 'C101P62ThinF_IMG_20150923_170344_cell_87.png',\n",
       " 'C186P147NThinF_IMG_20151203_150557_cell_179.png',\n",
       " 'C157P118ThinF_IMG_20151115_164755_cell_190.png',\n",
       " 'C129P90ThinF_IMG_20151004_133244_cell_96.png',\n",
       " 'C184P145ThinF_IMG_20151203_104334_cell_46.png',\n",
       " 'C118P79ThinF_IMG_20151002_105346_cell_152.png',\n",
       " 'C127P88ThinF_IMG_20151004_111526_cell_101.png',\n",
       " 'C116P77ThinF_IMG_20150930_171635_cell_105.png',\n",
       " 'C116P77ThinF_IMG_20150930_171448_cell_91.png',\n",
       " 'C101P62ThinF_IMG_20150918_155731_cell_61.png',\n",
       " 'C140P101ThinF_IMG_20151005_210026_cell_180.png',\n",
       " 'C101P62ThinF_IMG_20150923_170246_cell_80.png',\n",
       " 'C46P7ThinF_IMG_20151130_210938_cell_163.png',\n",
       " 'C132P93ThinF_IMG_20151004_152642_cell_9.png',\n",
       " 'C146P107ThinF_IMG_20151018_135703_cell_227.png',\n",
       " 'C184P145ThinF_IMG_20151203_102405_cell_183.png',\n",
       " 'C59P20thinF_IMG_20150803_111333_cell_181.png',\n",
       " 'C180P141NThinF_IMG_20151201_164714_cell_169.png',\n",
       " 'C116P77ThinF_IMG_20150930_171635_cell_111.png',\n",
       " 'C132P93ThinF_IMG_20151004_151941_cell_14.png',\n",
       " 'C101P62ThinF_IMG_20150918_155731_cell_75.png',\n",
       " 'C113P74ThinF_IMG_20150930_134751_cell_173.png',\n",
       " 'C48P9thinF_IMG_20150721_162732_cell_5.png',\n",
       " 'C129P90ThinF_IMG_20151004_134944_cell_17.png',\n",
       " 'C51AP12thinF_IMG_20150724_160140_cell_68.png',\n",
       " 'C74P35_ThinF_IMG_20150815_120957_cell_128.png',\n",
       " 'C84P45ThinF_IMG_20150818_101903_cell_10.png',\n",
       " 'C184P145ThinF_IMG_20151203_104030_cell_9.png',\n",
       " 'C132P93ThinF_IMG_20151004_152642_cell_45.png',\n",
       " 'C60P21thinF_IMG_20150804_104919_cell_135.png',\n",
       " 'C68P29N_ThinF_IMG_20150819_133447_cell_132.png',\n",
       " 'C132P93ThinF_IMG_20151004_152353_cell_146.png',\n",
       " 'C189P150ThinF_IMG_20151203_140902_cell_113.png',\n",
       " 'C145P106ThinF_IMG_20151016_154844_cell_156.png',\n",
       " 'C68P29N_ThinF_IMG_20150819_133447_cell_126.png',\n",
       " 'C132P93ThinF_IMG_20151004_152353_cell_152.png',\n",
       " 'C95P56ThinF_IMG_20150821_171603_cell_77.png',\n",
       " 'C85P46ThinF_IMG_20150820_110143_cell_241.png',\n",
       " 'C140P101ThinF_IMG_20151005_210309_cell_181.png',\n",
       " 'C132P93ThinF_IMG_20151004_151701_cell_176.png',\n",
       " 'C103P64ThinF_IMG_20150918_165016_cell_158.png',\n",
       " 'C189P150ThinF_IMG_20151203_141719_cell_62.png',\n",
       " 'C132P93ThinF_IMG_20151004_151941_cell_28.png',\n",
       " 'C45P6ThinF_IMG_20151130_155110_cell_208.png',\n",
       " 'C132P93ThinF_IMG_20151004_152642_cell_51.png',\n",
       " 'C46P7ThinF_IMG_20151130_210123_cell_124.png',\n",
       " 'C67P28N_ThinF_IMG_20150819_121053_cell_233.png',\n",
       " 'C48P9thinF_IMG_20150721_163810_cell_8.png',\n",
       " 'C59P20thinF_IMG_20150803_111333_cell_156.png',\n",
       " 'C177P138NThinF_IMG_20151201_143025_cell_179.png',\n",
       " 'C93P54ThinF_IMG_20150821_163640_cell_207.png',\n",
       " 'C176P137NThinF_IMG_20151201_122444_cell_119.png',\n",
       " 'C176P137NThinF_IMG_20151201_122811_cell_151.png',\n",
       " 'C136P97ThinF_IMG_20151005_141946_cell_107.png',\n",
       " 'C86P47ThinF_IMG_20150820_125057_cell_220.png',\n",
       " 'C136P97ThinF_IMG_20151005_141946_cell_113.png',\n",
       " 'C176P137NThinF_IMG_20151201_122811_cell_145.png',\n",
       " 'C39P4thinF_original_IMG_20150622_105335_cell_15.png',\n",
       " 'C110P71ThinF_IMG_20150930_105559_cell_202.png',\n",
       " 'C59P20thinF_IMG_20150803_111333_cell_142.png',\n",
       " 'C184P145ThinF_IMG_20151203_104440_cell_29.png',\n",
       " 'C107P68ThinF_IMG_20150924_222415_cell_181.png',\n",
       " 'C126P87ThinF_IMG_20151004_105234_cell_131.png',\n",
       " 'C124P85ThinF_IMG_20151002_154846_cell_151.png',\n",
       " 'C46P7ThinF_IMG_20151130_210123_cell_118.png',\n",
       " 'C59P20thinF_IMG_20150803_111244_cell_195.png',\n",
       " 'C141P102ThinF_IMG_20151005_214033_cell_114.png',\n",
       " 'C60P21thinF_IMG_20150804_113011_cell_3.png',\n",
       " 'C70P31_ThinF_IMG_20150819_142703_cell_1.png',\n",
       " 'C93P54ThinF_IMG_20150821_164024_cell_206.png',\n",
       " 'C84P45ThinF_IMG_20150818_103817_cell_14.png',\n",
       " 'C176P137NThinF_IMG_20151201_122444_cell_125.png',\n",
       " 'C180P141NThinF_IMG_20151201_164714_cell_182.png',\n",
       " 'C89P50ThinF_IMG_20150820_162300_cell_208.png',\n",
       " 'C180P141NThinF_IMG_20151201_163751_cell_163.png',\n",
       " 'C119P80ThinF_IMG_20151002_123043_cell_157.png',\n",
       " 'C72P33_ThinF_IMG_20150815_104307_cell_223.png',\n",
       " 'C91P52ThinF_IMG_20150821_123116_cell_200.png',\n",
       " 'C99P60ThinF_IMG_20150918_141314_cell_144.png',\n",
       " 'C180P141NThinF_IMG_20151201_163751_cell_177.png',\n",
       " 'C184P145ThinF_IMG_20151203_102405_cell_168.png',\n",
       " 'C176P137NThinF_IMG_20151201_122444_cell_131.png',\n",
       " 'C39P4thinF_original_IMG_20150622_105335_cell_29.png',\n",
       " 'C180P141NThinF_IMG_20151201_164714_cell_196.png',\n",
       " 'C126P87ThinF_IMG_20151004_105844_cell_146.png',\n",
       " 'C81P42ThinF_IMG_20150817_120524_cell_188.png',\n",
       " 'C39P4thinF_original_IMG_20150622_110435_cell_118.png',\n",
       " 'C59P20thinF_IMG_20150803_111244_cell_181.png',\n",
       " 'C184P145ThinF_IMG_20151203_104440_cell_15.png',\n",
       " 'C95P56ThinF_IMG_20150821_172607_cell_95.png',\n",
       " 'C68P29N_ThinF_IMG_20150819_134326_cell_138.png',\n",
       " 'C117P78ThinF_IMG_20150930_214941_cell_80.png',\n",
       " 'C136P97ThinF_IMG_20151005_144727_cell_128.png',\n",
       " 'C68P29N_ThinF_IMG_20150819_134625_cell_7.png',\n",
       " 'C101P62ThinF_IMG_20150918_151239_cell_76.png',\n",
       " 'C45P6ThinF_IMG_20151130_160135_cell_222.png',\n",
       " 'C129P90ThinF_IMG_20151004_134700_cell_12.png',\n",
       " 'C60P21thinF_IMG_20150804_105955_cell_125.png',\n",
       " 'C116P77ThinF_IMG_20150930_172112_cell_83.png',\n",
       " 'C48P9thinF_IMG_20150721_161243_cell_149.png',\n",
       " 'C184P145ThinF_IMG_20151203_104153_cell_164.png',\n",
       " 'C184P145ThinF_IMG_20151203_104153_cell_170.png',\n",
       " 'C60P21thinF_IMG_20150804_105955_cell_131.png',\n",
       " 'C120P81ThinF_IMG_20151002_125443_cell_140.png',\n",
       " 'C189P150ThinF_IMG_20151203_141901_cell_85.png',\n",
       " 'C99P60ThinF_IMG_20150918_140900_cell_140.png',\n",
       " 'C116P77ThinF_IMG_20150930_172112_cell_97.png',\n",
       " 'C130P91ThinF_IMG_20151004_142709_cell_126.png',\n",
       " 'C50P11thinF_IMG_20150724_120716_cell_150.png',\n",
       " 'C76P37ThinF_IMG_20150815_173019_cell_229.png',\n",
       " 'C132P93ThinF_IMG_20151004_151811_cell_152.png',\n",
       " 'C96P57ThinF_IMG_20150824_105213_cell_212.png',\n",
       " 'C45P6ThinF_IMG_20151130_160409_cell_197.png',\n",
       " 'C184P145ThinF_IMG_20151203_104153_cell_158.png',\n",
       " 'C110P71ThinF_IMG_20150930_110052_cell_241.png',\n",
       " 'C60P21thinF_IMG_20150804_105955_cell_119.png',\n",
       " 'C186P147NThinF_IMG_20151203_150322_cell_161.png',\n",
       " 'C101P62ThinF_IMG_20150923_170110_cell_17.png',\n",
       " 'C133P94ThinF_IMG_20151004_153930_cell_103.png',\n",
       " 'C48P9thinF_IMG_20150721_161243_cell_161.png',\n",
       " 'C77P38ThinF_IMG_20150601_152941_cell_122.png',\n",
       " 'C180P141NThinF_IMG_20151201_165453_cell_6.png',\n",
       " 'C132P93ThinF_IMG_20151004_151811_cell_146.png',\n",
       " 'C39P4thinF_original_IMG_20150622_105253_cell_95.png',\n",
       " 'C129P90ThinF_IMG_20151004_133703_cell_89.png',\n",
       " 'C153P114ThinF_IMG_20151115_140242_cell_277.png',\n",
       " 'C116P77ThinF_IMG_20150930_171558_cell_136.png',\n",
       " 'C118P79ThinF_IMG_20151002_110834_cell_140.png',\n",
       " 'C59P20thinF_IMG_20150803_112733_cell_172.png',\n",
       " 'C65P26N_ThinF_IMG_20150818_154714_cell_182.png',\n",
       " 'C42P5thin_original_IMG_20150623_134426_cell_185.png',\n",
       " 'C118P79ThinF_IMG_20151002_110942_cell_19.png',\n",
       " 'C130P91ThinF_IMG_20151004_141825_cell_136.png',\n",
       " 'Thumbs.db',\n",
       " 'C182P143NThinF_IMG_20151201_172216_cell_137.png',\n",
       " 'C101P62ThinF_IMG_20150918_151149_cell_73.png',\n",
       " 'C174P135NThinF_IMG_20151127_135342_cell_215.png',\n",
       " 'C84P45ThinF_IMG_20150818_104156_cell_117.png',\n",
       " 'C172P133ThinF_IMG_20151119_155307_cell_256.png',\n",
       " 'C68P29N_ThinF_IMG_20150819_134504_cell_107.png',\n",
       " 'C39P4thinF_original_IMG_20150622_113842_cell_4.png',\n",
       " 'C168P129ThinF_IMG_20151118_155802_cell_150.png',\n",
       " 'C163P124ThinF_IMG_20151116_110818_cell_278.png',\n",
       " 'C118P79ThinF_IMG_20151002_110834_cell_154.png',\n",
       " 'C116P77ThinF_IMG_20150930_171558_cell_122.png',\n",
       " 'C59P20thinF_IMG_20150803_112733_cell_166.png',\n",
       " 'C59P20thinF_IMG_20150803_113139_cell_16.png',\n",
       " 'C48P9thinF_IMG_20150721_164129_cell_35.png',\n",
       " 'C101P62ThinF_IMG_20150918_151239_cell_89.png',\n",
       " 'C39P4thinF_original_IMG_20150622_105803_cell_100.png',\n",
       " 'C130P91ThinF_IMG_20151004_142951_cell_153.png',\n",
       " 'C180P141NThinF_IMG_20151201_163702_cell_206.png',\n",
       " 'C48P9thinF_IMG_20150721_160944_cell_205.png',\n",
       " 'C80P41ThinF_IMG_20150817_111544_cell_140.png',\n",
       " 'C158P119ThinF_IMG_20151115_181136_cell_203.png',\n",
       " 'C174P135NThinF_IMG_20151127_135342_cell_229.png',\n",
       " 'C99P60ThinF_IMG_20150918_141129_cell_154.png',\n",
       " 'C184P145ThinF_IMG_20151203_103824_cell_149.png',\n",
       " 'C99P60ThinF_IMG_20150918_141129_cell_140.png',\n",
       " 'C116P77ThinF_IMG_20150930_172112_cell_68.png',\n",
       " 'C130P91ThinF_IMG_20151004_142951_cell_147.png',\n",
       " 'C48P9thinF_IMG_20150721_160944_cell_211.png',\n",
       " 'C48P9thinF_IMG_20150721_162732_cell_21.png',\n",
       " 'C107P68ThinF_IMG_20150924_222233_cell_161.png',\n",
       " 'C118P79ThinF_IMG_20151002_110002_cell_5.png',\n",
       " 'C102P63ThinF_IMG_20150918_163054_cell_167.png',\n",
       " 'C48P9thinF_IMG_20150721_160944_cell_210.png',\n",
       " 'C116P77ThinF_IMG_20150930_172112_cell_69.png',\n",
       " 'C130P91ThinF_IMG_20151004_142951_cell_146.png',\n",
       " 'C158P119ThinF_IMG_20151115_183157_cell_171.png',\n",
       " 'C76P37ThinF_IMG_20150815_172902_cell_226.png',\n",
       " 'C99P60ThinF_IMG_20150918_141129_cell_141.png',\n",
       " 'C118P79ThinF_IMG_20151002_110002_cell_4.png',\n",
       " 'C48P9thinF_IMG_20150721_164129_cell_20.png',\n",
       " 'C107P68ThinF_IMG_20150924_222233_cell_160.png',\n",
       " 'C48P9thinF_IMG_20150721_162732_cell_20.png',\n",
       " 'C39P4thinF_original_IMG_20150622_105803_cell_101.png',\n",
       " 'C49P10thinF_IMG_20150724_103233_cell_202.png',\n",
       " 'C167P128ReThinF_IMG_20151201_105707_cell_244.png',\n",
       " 'C48P9thinF_IMG_20150721_164129_cell_34.png',\n",
       " 'C184P145ThinF_IMG_20151203_103824_cell_148.png',\n",
       " 'C99P60ThinF_IMG_20150918_141129_cell_155.png',\n",
       " 'C174P135NThinF_IMG_20151127_135342_cell_228.png',\n",
       " 'C158P119ThinF_IMG_20151115_181136_cell_202.png',\n",
       " 'C80P41ThinF_IMG_20150817_111544_cell_141.png',\n",
       " 'C96P57ThinF_IMG_20150824_112132_cell_192.png',\n",
       " 'C180P141NThinF_IMG_20151201_163702_cell_207.png',\n",
       " 'C48P9thinF_IMG_20150721_160944_cell_204.png',\n",
       " 'C130P91ThinF_IMG_20151004_142951_cell_152.png',\n",
       " 'C39P4thinF_original_IMG_20150622_113842_cell_5.png',\n",
       " 'C68P29N_ThinF_IMG_20150819_134504_cell_106.png',\n",
       " 'C172P133ThinF_IMG_20151119_155307_cell_257.png',\n",
       " 'C84P45ThinF_IMG_20150818_104156_cell_116.png',\n",
       " 'C94P55ThinF_IMG_20150821_165118_cell_264.png',\n",
       " 'C59P20thinF_IMG_20150803_113139_cell_17.png',\n",
       " 'C59P20thinF_IMG_20150803_112733_cell_167.png',\n",
       " 'C116P77ThinF_IMG_20150930_171558_cell_123.png',\n",
       " 'C118P79ThinF_IMG_20151002_110834_cell_155.png',\n",
       " 'C39P4thinF_original_IMG_20150622_105102_cell_103.png',\n",
       " 'C163P124ThinF_IMG_20151116_110818_cell_279.png',\n",
       " 'C130P91ThinF_IMG_20151004_141825_cell_137.png',\n",
       " 'C65P26N_ThinF_IMG_20150818_154714_cell_183.png',\n",
       " 'C59P20thinF_IMG_20150803_112733_cell_173.png',\n",
       " 'C118P79ThinF_IMG_20151002_110834_cell_141.png',\n",
       " 'C116P77ThinF_IMG_20150930_171558_cell_137.png',\n",
       " 'C174P135NThinF_IMG_20151127_135342_cell_214.png',\n",
       " 'C68P29N_ThinF_IMG_20150819_134504_cell_112.png',\n",
       " 'C101P62ThinF_IMG_20150918_151149_cell_72.png',\n",
       " 'C182P143NThinF_IMG_20151201_172216_cell_136.png',\n",
       " 'C148P109ThinF_IMG_20151115_112253_cell_224.png',\n",
       " 'C48P9thinF_IMG_20150721_161243_cell_160.png',\n",
       " 'C133P94ThinF_IMG_20151004_153930_cell_102.png',\n",
       " 'C186P147NThinF_IMG_20151203_150322_cell_174.png',\n",
       " 'C101P62ThinF_IMG_20150923_170110_cell_16.png',\n",
       " 'C129P90ThinF_IMG_20151004_133703_cell_88.png',\n",
       " 'C59P20thinF_IMG_20150803_112733_cell_198.png',\n",
       " 'C39P4thinF_original_IMG_20150622_105253_cell_94.png',\n",
       " 'C96P57ThinF_IMG_20150824_105213_cell_207.png',\n",
       " 'C132P93ThinF_IMG_20151004_151811_cell_147.png',\n",
       " 'C70P31_ThinF_IMG_20150819_141730_cell_106.png',\n",
       " 'C132P93ThinF_IMG_20151004_151811_cell_153.png',\n",
       " 'C66P27N_ThinF_IMG_20150818_163551_cell_181.png',\n",
       " 'C76P37ThinF_IMG_20150815_173019_cell_228.png',\n",
       " 'C102P63ThinF_IMG_20150918_162511_cell_169.png',\n",
       " 'C186P147NThinF_IMG_20151203_150322_cell_160.png',\n",
       " 'C110P71ThinF_IMG_20150930_110052_cell_240.png',\n",
       " 'C91P52ThinF_IMG_20150821_124937_cell_195.png',\n",
       " 'C184P145ThinF_IMG_20151203_104153_cell_159.png',\n",
       " 'C45P6ThinF_IMG_20151130_160409_cell_196.png',\n",
       " 'C130P91ThinF_IMG_20151004_142709_cell_127.png',\n",
       " 'C116P77ThinF_IMG_20150930_172112_cell_96.png',\n",
       " 'C99P60ThinF_IMG_20150918_140900_cell_141.png',\n",
       " 'C189P150ThinF_IMG_20151203_141901_cell_84.png',\n",
       " 'C60P21thinF_IMG_20150804_105955_cell_130.png',\n",
       " 'C120P81ThinF_IMG_20151002_125443_cell_141.png',\n",
       " 'C184P145ThinF_IMG_20151203_104153_cell_171.png',\n",
       " 'C129P90ThinF_IMG_20151004_134700_cell_13.png',\n",
       " 'C101P62ThinF_IMG_20150918_151239_cell_77.png',\n",
       " 'C68P29N_ThinF_IMG_20150819_134625_cell_6.png',\n",
       " 'C136P97ThinF_IMG_20151005_144727_cell_129.png',\n",
       " 'C117P78ThinF_IMG_20150930_214941_cell_81.png',\n",
       " 'C184P145ThinF_IMG_20151203_104153_cell_165.png',\n",
       " 'C48P9thinF_IMG_20150721_161243_cell_148.png',\n",
       " 'C116P77ThinF_IMG_20150930_172112_cell_82.png',\n",
       " 'C60P21thinF_IMG_20150804_105955_cell_124.png',\n",
       " 'C39P4thinF_original_IMG_20150622_105335_cell_28.png',\n",
       " 'C176P137NThinF_IMG_20151201_122444_cell_130.png',\n",
       " 'C184P145ThinF_IMG_20151203_102405_cell_169.png',\n",
       " 'C180P141NThinF_IMG_20151201_163751_cell_176.png',\n",
       " 'C68P29N_ThinF_IMG_20150819_134326_cell_139.png',\n",
       " 'C184P145ThinF_IMG_20151203_104440_cell_14.png',\n",
       " 'C59P20thinF_IMG_20150803_111244_cell_180.png',\n",
       " 'C39P4thinF_original_IMG_20150622_110435_cell_119.png',\n",
       " 'C81P42ThinF_IMG_20150817_120524_cell_189.png',\n",
       " 'C126P87ThinF_IMG_20151004_105844_cell_147.png',\n",
       " 'C84P45ThinF_IMG_20150818_103817_cell_15.png',\n",
       " 'C93P54ThinF_IMG_20150821_164024_cell_207.png',\n",
       " 'C60P21thinF_IMG_20150804_113011_cell_2.png',\n",
       " 'C59P20thinF_IMG_20150803_111244_cell_194.png',\n",
       " 'C103P64ThinF_IMG_20150918_164250_cell_174.png',\n",
       " 'C99P60ThinF_IMG_20150918_141314_cell_145.png',\n",
       " 'C91P52ThinF_IMG_20150821_123116_cell_201.png',\n",
       " 'C72P33_ThinF_IMG_20150815_104307_cell_222.png',\n",
       " 'C119P80ThinF_IMG_20151002_123043_cell_156.png',\n",
       " 'C89P50ThinF_IMG_20150820_162300_cell_209.png',\n",
       " 'C37BP2_thinF_IMG_20150620_133205a_cell_87.png',\n",
       " 'C180P141NThinF_IMG_20151201_163751_cell_162.png',\n",
       " 'C180P141NThinF_IMG_20151201_164714_cell_183.png',\n",
       " 'C176P137NThinF_IMG_20151201_122444_cell_124.png',\n",
       " 'C132P93ThinF_IMG_20151004_152353_cell_184.png',\n",
       " 'C59P20thinF_IMG_20150803_111333_cell_143.png',\n",
       " 'C39P4thinF_original_IMG_20150622_105335_cell_14.png',\n",
       " 'C136P97ThinF_IMG_20151005_141946_cell_112.png',\n",
       " 'C176P137NThinF_IMG_20151201_122811_cell_144.png',\n",
       " 'C126P87ThinF_IMG_20151004_105234_cell_130.png',\n",
       " 'C107P68ThinF_IMG_20150924_222415_cell_180.png',\n",
       " 'C175P136NThinF_IMG_20151127_141253_cell_237.png',\n",
       " 'C184P145ThinF_IMG_20151203_104440_cell_28.png',\n",
       " 'C48P9thinF_IMG_20150721_163810_cell_9.png',\n",
       " 'C46P7ThinF_IMG_20151130_210123_cell_125.png',\n",
       " 'C176P137NThinF_IMG_20151201_122811_cell_150.png',\n",
       " 'C136P97ThinF_IMG_20151005_141946_cell_106.png',\n",
       " 'C93P54ThinF_IMG_20150821_163640_cell_206.png',\n",
       " 'C177P138NThinF_IMG_20151201_143025_cell_178.png',\n",
       " 'C59P20thinF_IMG_20150803_111333_cell_157.png',\n",
       " 'C64P25N_ThinF_IMG_20150818_152613_cell_197.png',\n",
       " 'C85P46ThinF_IMG_20150820_110143_cell_240.png',\n",
       " 'C95P56ThinF_IMG_20150821_171603_cell_76.png',\n",
       " 'C132P93ThinF_IMG_20151004_152353_cell_153.png',\n",
       " 'C68P29N_ThinF_IMG_20150819_133447_cell_127.png',\n",
       " 'C136P97ThinF_IMG_20151005_143329_cell_91.png',\n",
       " 'C145P106ThinF_IMG_20151016_154844_cell_157.png',\n",
       " 'C189P150ThinF_IMG_20151203_140902_cell_112.png',\n",
       " 'C132P93ThinF_IMG_20151004_152642_cell_50.png',\n",
       " 'C45P6ThinF_IMG_20151130_155110_cell_209.png',\n",
       " 'C132P93ThinF_IMG_20151004_151941_cell_29.png',\n",
       " 'C167P128ReThinF_IMG_20151201_110011_cell_234.png',\n",
       " 'C103P64ThinF_IMG_20150918_165016_cell_159.png',\n",
       " 'C60P21thinF_IMG_20150804_104919_cell_134.png',\n",
       " 'C132P93ThinF_IMG_20151004_152642_cell_44.png',\n",
       " 'C105P66ThinF_IMG_20150924_095913_cell_118.png',\n",
       " 'C184P145ThinF_IMG_20151203_104030_cell_8.png',\n",
       " 'C84P45ThinF_IMG_20150818_101903_cell_11.png',\n",
       " 'C132P93ThinF_IMG_20151004_152353_cell_147.png',\n",
       " 'C68P29N_ThinF_IMG_20150819_133447_cell_133.png',\n",
       " 'C132P93ThinF_IMG_20151004_151701_cell_163.png',\n",
       " 'C180P141NThinF_IMG_20151201_164714_cell_168.png',\n",
       " 'C137P98ThinF_IMG_20151005_161306_cell_11.png',\n",
       " 'C59P20thinF_IMG_20150803_111333_cell_180.png',\n",
       " 'C51AP12thinF_IMG_20150724_160140_cell_69.png',\n",
       " 'C129P90ThinF_IMG_20151004_134944_cell_16.png',\n",
       " 'C48P9thinF_IMG_20150721_162732_cell_4.png',\n",
       " 'C101P62ThinF_IMG_20150918_155731_cell_74.png',\n",
       " 'C116P77ThinF_IMG_20150930_171448_cell_84.png',\n",
       " 'C132P93ThinF_IMG_20151004_151941_cell_15.png',\n",
       " 'C116P77ThinF_IMG_20150930_171635_cell_110.png',\n",
       " 'C46P7ThinF_IMG_20151130_210938_cell_162.png',\n",
       " 'C101P62ThinF_IMG_20150923_170246_cell_81.png',\n",
       " 'C140P101ThinF_IMG_20151005_210026_cell_181.png',\n",
       " 'C116P77ThinF_IMG_20150930_171448_cell_90.png',\n",
       " 'C95P56ThinF_IMG_20150821_172351_cell_106.png',\n",
       " 'C184P145ThinF_IMG_20151203_102405_cell_182.png',\n",
       " 'C146P107ThinF_IMG_20151018_135703_cell_226.png',\n",
       " 'C70P31_ThinF_IMG_20150819_141327_cell_73.png',\n",
       " 'C158P119ThinF_IMG_20151115_181035_cell_178.png',\n",
       " 'C95P56ThinF_IMG_20150821_171631_cell_104.png',\n",
       " 'C132P93ThinF_IMG_20151004_152642_cell_8.png',\n",
       " 'C180P141NThinF_IMG_20151201_165423_cell_181.png',\n",
       " 'C59P20thinF_IMG_20150803_112802_cell_167.png',\n",
       " 'C184P145ThinF_IMG_20151203_103326_cell_124.png',\n",
       " 'C97P58ThinF_IMG_20150917_150838_cell_148.png',\n",
       " 'C155P116ThinF_IMG_20151115_142805_cell_195.png',\n",
       " 'C138P99ThinF_IMG_20151005_173453_cell_113.png',\n",
       " 'C118P79ThinF_IMG_20151002_105346_cell_153.png',\n",
       " 'C184P145ThinF_IMG_20151203_104334_cell_47.png',\n",
       " 'C129P90ThinF_IMG_20151004_133244_cell_97.png',\n",
       " 'C157P118ThinF_IMG_20151115_164755_cell_191.png',\n",
       " 'C186P147NThinF_IMG_20151203_150557_cell_178.png',\n",
       " 'C101P62ThinF_IMG_20150923_170344_cell_86.png',\n",
       " 'C172P133ThinF_IMG_20151119_154936_cell_257.png',\n",
       " 'C184P145ThinF_IMG_20151203_102543_cell_143.png',\n",
       " 'C176P137NThinF_IMG_20151201_121030_cell_19.png',\n",
       " 'C101P62ThinF_IMG_20150923_170344_cell_92.png',\n",
       " 'C184P145ThinF_IMG_20151203_102543_cell_157.png',\n",
       " 'C180P141NThinF_IMG_20151201_163702_cell_171.png',\n",
       " 'C184P145ThinF_IMG_20151203_104030_cell_15.png',\n",
       " 'C101P62ThinF_IMG_20150918_151335_cell_57.png',\n",
       " 'C184P145ThinF_IMG_20151203_104334_cell_53.png',\n",
       " 'C91P52ThinF_IMG_20150821_124937_cell_220.png',\n",
       " 'C184P145ThinF_IMG_20151203_103326_cell_130.png',\n",
       " 'C131P92ThinF_IMG_20151004_150208_cell_141.png',\n",
       " 'C99P60ThinF_IMG_20150918_141857_cell_29.png',\n",
       " 'C183P144NThinF_IMG_20151201_223758_cell_131.png',\n",
       " 'C59P20thinF_IMG_20150803_112802_cell_173.png',\n",
       " 'C59P20thinF_IMG_20150803_112733_cell_211.png',\n",
       " 'C131P92ThinF_IMG_20151004_151126_cell_122.png',\n",
       " 'C91P52ThinF_IMG_20150821_124937_cell_208.png',\n",
       " 'C60P21thinF_IMG_20150804_113011_cell_10.png',\n",
       " 'C59P20thinF_IMG_20150803_113809_cell_41.png',\n",
       " 'C130P91ThinF_IMG_20151004_141341_cell_156.png',\n",
       " 'C184P145ThinF_IMG_20151203_104030_cell_29.png',\n",
       " 'C59P20thinF_IMG_20150803_112733_cell_205.png',\n",
       " 'C98P59ThinF_IMG_20150917_154452_cell_205.png',\n",
       " 'C63P24N_ThinF_IMG_20150818_143423_cell_163.png',\n",
       " 'C120P81ThinF_IMG_20151002_130150_cell_206.png',\n",
       " 'C93P54ThinF_IMG_20150821_163815_cell_228.png',\n",
       " 'C129P90ThinF_IMG_20151004_134636_cell_9.png',\n",
       " 'C116P77ThinF_IMG_20150930_171448_cell_129.png',\n",
       " 'C99P60ThinF_IMG_20150918_141001_cell_126.png',\n",
       " 'C132P93ThinF_IMG_20151004_153030_cell_43.png',\n",
       " 'C184P145ThinF_IMG_20151203_102543_cell_180.png',\n",
       " 'C68P29N_ThinF_IMG_20150819_134712_cell_23.png',\n",
       " 'C174P135NThinF_IMG_20151127_135554_cell_193.png',\n",
       " 'C129P90ThinF_IMG_20151004_133538_cell_81.png',\n",
       " 'C129P90ThinF_IMG_20151004_133538_cell_95.png',\n",
       " 'C68P29N_ThinF_IMG_20150819_134712_cell_37.png',\n",
       " 'C179P140ThinF_IMG_20151127_153852_cell_166.png',\n",
       " 'C68P29N_ThinF_IMG_20150819_134712_cell_1.png',\n",
       " 'C116P77ThinF_IMG_20150930_171809_cell_58.png',\n",
       " 'C174P135NThinF_IMG_20151127_135554_cell_187.png',\n",
       " 'C129P90ThinF_IMG_20151004_134306_cell_128.png',\n",
       " 'C184P145ThinF_IMG_20151203_103637_cell_148.png',\n",
       " 'C68P29N_ThinF_IMG_20150819_134830_cell_59.png',\n",
       " 'C99P60ThinF_IMG_20150918_141001_cell_132.png',\n",
       " 'C51AP12thinF_IMG_20150724_155557_cell_80.png',\n",
       " 'C187P148NThinF_IMG_20151203_153713_cell_194.png',\n",
       " 'C172P133ThinF_IMG_20151119_155343_cell_276.png',\n",
       " 'C116P77ThinF_IMG_20150930_171448_cell_115.png',\n",
       " 'C184P145ThinF_IMG_20151203_103637_cell_160.png',\n",
       " 'C59P20thinF_IMG_20150803_112802_cell_198.png',\n",
       " 'C186P147NThinF_IMG_20151203_150859_cell_167.png',\n",
       " 'C101P62ThinF_IMG_20150923_165215_cell_16.png',\n",
       " 'C68P29N_ThinF_IMG_20150819_134830_cell_71.png',\n",
       " 'C143P104ThinF_IMG_20151005_230100_cell_161.png',\n",
       " 'C87P48ThinF_IMG_20150820_144855_cell_182.png',\n",
       " 'C93P54ThinF_IMG_20150821_163815_cell_214.png',\n",
       " 'C137P98ThinF_IMG_20151005_161659_cell_4.png',\n",
       " 'C180P141NThinF_IMG_20151201_165659_cell_41.png',\n",
       " 'C186P147NThinF_IMG_20151203_150557_cell_187.png',\n",
       " 'C39P4thinF_original_IMG_20150622_110352_cell_110.png',\n",
       " 'C51AP12thinF_IMG_20150724_162636_cell_82.png',\n",
       " 'C48P9thinF_IMG_20150721_160944_cell_199.png',\n",
       " 'C101P62ThinF_IMG_20150923_170344_cell_79.png',\n",
       " 'C116P77ThinF_IMG_20150930_171809_cell_70.png',\n",
       " 'C116P77ThinF_IMG_20150930_171809_cell_64.png',\n",
       " 'C39P4thinF_original_IMG_20150622_110352_cell_104.png',\n",
       " 'C186P147NThinF_IMG_20151203_150222_cell_170.png',\n",
       " 'C99P60ThinF_IMG_20150918_141520_cell_91.png',\n",
       " 'C113P74ThinF_IMG_20150930_134429_cell_183.png',\n",
       " 'C74P35_ThinF_IMG_20150815_114555_cell_131.png',\n",
       " 'C116P77ThinF_IMG_20150930_171448_cell_101.png',\n",
       " 'C68P29N_ThinF_IMG_20150819_134830_cell_65.png',\n",
       " 'C82P43ThinF_IMG_20150817_123500_cell_223.png',\n",
       " 'C99P60ThinF_IMG_20150918_142334_cell_42.png',\n",
       " 'C180P141NThinF_IMG_20151201_170021_cell_32.png',\n",
       " 'C180P141NThinF_IMG_20151201_165453_cell_12.png',\n",
       " 'C174P135NThinF_IMG_20151127_135435_cell_213.png',\n",
       " 'C159P120ThinF_IMG_20151115_190421_cell_206.png',\n",
       " 'C133P94ThinF_IMG_20151004_154717_cell_123.png',\n",
       " 'C39P4thinF_original_IMG_20150622_113446_cell_15.png',\n",
       " 'C68P29N_ThinF_IMG_20150819_134625_cell_29.png',\n",
       " 'C66P27N_ThinF_IMG_20150818_164008_cell_157.png',\n",
       " 'C118P79ThinF_IMG_20151002_104831_cell_145.png',\n",
       " 'C129P90ThinF_IMG_20151004_134520_cell_123.png',\n",
       " 'C118P79ThinF_IMG_20151002_104831_cell_151.png',\n",
       " 'C81P42ThinF_IMG_20150817_121113_cell_177.png',\n",
       " 'C133P94ThinF_IMG_20151004_154717_cell_137.png',\n",
       " 'C91P52ThinF_IMG_20150821_123116_cell_177.png',\n",
       " 'C182P143NThinF_IMG_20151201_172057_cell_181.png',\n",
       " 'C133P94ThinF_IMG_20151004_155331_cell_117.png',\n",
       " 'C180P141NThinF_IMG_20151201_170021_cell_26.png',\n",
       " 'C182P143NThinF_IMG_20151201_172842_cell_33.png',\n",
       " 'C174P135NThinF_IMG_20151127_135435_cell_207.png',\n",
       " 'C63P24N_ThinF_IMG_20150818_144456_cell_178.png',\n",
       " 'C159P120ThinF_IMG_20151115_190812_cell_243.png',\n",
       " 'C102P63ThinF_IMG_20150918_161826_cell_171.png',\n",
       " 'C124P85ThinF_IMG_20151002_153825_cell_195.png',\n",
       " 'C82P43ThinF_IMG_20150817_123500_cell_237.png',\n",
       " 'C33P1thinF_IMG_20150619_121300a_cell_156.png',\n",
       " 'C84P45ThinF_IMG_20150818_104849_cell_16.png',\n",
       " 'C181P142ThinF_IMG_20151127_160434_cell_158.png',\n",
       " 'C57P18thinF_IMG_20150729_110305_cell_222.png',\n",
       " 'C99P60ThinF_IMG_20150918_142128_cell_117.png',\n",
       " 'C39P4thinF_original_IMG_20150622_111942_cell_9.png',\n",
       " 'C66P27N_ThinF_IMG_20150818_164408_cell_136.png',\n",
       " 'C181P142ThinF_IMG_20151127_160434_cell_170.png',\n",
       " 'C156P117ThinF_IMG_20151115_154022_cell_282.png',\n",
       " 'C48P9thinF_IMG_20150721_161412_cell_190.png',\n",
       " 'C59P20thinF_IMG_20150803_113430_cell_27.png',\n",
       " 'C154P115ThinF_IMG_20151115_141336_cell_234.png',\n",
       " 'C132P93ThinF_IMG_20151004_151733_cell_182.png',\n",
       " 'C189P150ThinF_IMG_20151203_142113_cell_84.png',\n",
       " 'C68P29N_ThinF_IMG_20150819_134625_cell_15.png',\n",
       " 'C80P41ThinF_IMG_20150817_111943_cell_19.png',\n",
       " 'C182P143NThinF_IMG_20151201_172759_cell_56.png',\n",
       " 'C51AP12thinF_IMG_20150724_154243_cell_113.png',\n",
       " 'C123P84ThinF_IMG_20151002_150931_cell_200.png',\n",
       " 'C176P137NThinF_IMG_20151201_114035_cell_139.png',\n",
       " 'C136P97ThinF_IMG_20151005_144449_cell_2.png',\n",
       " 'C83P44ThinF_IMG_20150817_134331_cell_198.png',\n",
       " 'C130P91ThinF_IMG_20151004_142109_cell_134.png',\n",
       " 'C144P105ThinF_IMG_20151015_160529_cell_276.png',\n",
       " 'C39P4thinF_original_IMG_20150622_113446_cell_29.png',\n",
       " 'C130P91ThinF_IMG_20151004_141428_cell_124.png',\n",
       " 'C51AP12thinF_IMG_20150724_154330_cell_127.png',\n",
       " 'C174P135NThinF_IMG_20151127_135311_cell_207.png',\n",
       " 'C175P136NThinF_IMG_20151127_142009_cell_240.png',\n",
       " 'C189P150ThinF_IMG_20151203_142113_cell_90.png',\n",
       " 'C136P97ThinF_IMG_20151005_143743_cell_107.png',\n",
       " 'C182P143NThinF_IMG_20151201_172759_cell_42.png',\n",
       " 'C167P128ReThinF_IMG_20151201_105354_cell_236.png',\n",
       " 'C62P23N_ThinF_IMG_20150818_133527_cell_201.png',\n",
       " 'C181P142ThinF_IMG_20151127_160434_cell_164.png',\n",
       " 'C59P20thinF_IMG_20150803_113430_cell_33.png',\n",
       " 'C48P9thinF_IMG_20150721_161412_cell_184.png',\n",
       " 'C45P6ThinF_IMG_20151130_155110_cell_194.png',\n",
       " 'C80P41ThinF_IMG_20150817_110957_cell_142.png',\n",
       " 'C99P60ThinF_IMG_20150918_142128_cell_103.png',\n",
       " 'C39P4thinF_original_IMG_20150622_105554_cell_9.png',\n",
       " 'C183P144NThinF_IMG_20151201_222119_cell_141.png',\n",
       " 'C64P25N_ThinF_IMG_20150818_153401_cell_195.png',\n",
       " 'C184P145ThinF_IMG_20151203_103114_cell_160.png',\n",
       " 'C81P42ThinF_IMG_20150817_120351_cell_185.png',\n",
       " 'C175P136NThinF_IMG_20151127_141325_cell_224.png',\n",
       " 'C68P29N_ThinF_IMG_20150819_133236_cell_137.png',\n",
       " 'C80P41ThinF_IMG_20150817_112329_cell_9.png',\n",
       " 'C136P97ThinF_IMG_20151005_142437_cell_130.png',\n",
       " 'C176P137NThinF_IMG_20151201_120612_cell_11.png',\n",
       " 'C76P37ThinF_IMG_20150815_165356_cell_181.png',\n",
       " 'C182P143NThinF_IMG_20151201_172057_cell_156.png',\n",
       " 'C136P97ThinF_IMG_20151005_141803_cell_118.png',\n",
       " 'C67P28N_ThinF_IMG_20150819_121456_cell_248.png',\n",
       " 'C182P143NThinF_IMG_20151201_172057_cell_142.png',\n",
       " 'C50P11thinF_IMG_20150724_115651_cell_191.png',\n",
       " 'C132P93ThinF_IMG_20151004_152505_cell_148.png',\n",
       " 'C172P133ThinF_IMG_20151119_155019_cell_240.png',\n",
       " 'C174P135NThinF_IMG_20151127_135512_cell_181.png',\n",
       " 'C120P81ThinF_IMG_20151002_130715_cell_186.png',\n",
       " 'C97P58ThinF_IMG_20150917_152225_cell_22.png',\n",
       " 'C175P136NThinF_IMG_20151127_141325_cell_230.png',\n",
       " 'C132P93ThinF_IMG_20151004_151733_cell_169.png',\n",
       " 'C84P45ThinF_IMG_20150818_102325_cell_92.png',\n",
       " 'C107P68ThinF_IMG_20150924_221632_cell_180.png',\n",
       " 'C39P4thinF_original_IMG_20150622_113842_cell_13.png',\n",
       " 'C80P41ThinF_IMG_20150817_110834_cell_144.png',\n",
       " 'C177P138NThinF_IMG_20151201_143704_cell_177.png',\n",
       " 'C184P145ThinF_IMG_20151203_103114_cell_174.png',\n",
       " 'C101P62ThinF_IMG_20150918_151507_cell_74.png',\n",
       " 'C132P93ThinF_IMG_20151004_151733_cell_141.png',\n",
       " 'C175P136NThinF_IMG_20151127_141325_cell_218.png',\n",
       " 'C176P137NThinF_IMG_20151201_122708_cell_133.png',\n",
       " 'C99P60ThinF_IMG_20150918_141620_cell_43.png',\n",
       " 'C171P132ThinF_IMG_20151119_153150_cell_223.png',\n",
       " 'C116P77ThinF_IMG_20150930_171844_cell_115.png',\n",
       " 'C68P29N_ThinF_IMG_20150819_134112_cell_152.png',\n",
       " 'C65P26N_ThinF_IMG_20150818_154010_cell_201.png',\n",
       " 'C144P105ThinF_IMG_20151015_163432_cell_305.png',\n",
       " 'C51AP12thinF_IMG_20150724_153313_cell_108.png',\n",
       " 'C189P150ThinF_IMG_20151203_142224_cell_91.png',\n",
       " 'C118P79ThinF_IMG_20151002_105018_cell_145.png',\n",
       " 'C132P93ThinF_IMG_20151004_152505_cell_160.png',\n",
       " 'C60P21thinF_IMG_20150804_105034_cell_110.png',\n",
       " 'C60P21thinF_IMG_20150804_105034_cell_104.png',\n",
       " 'C65P26N_ThinF_IMG_20150818_154050_cell_176.png',\n",
       " 'C136P97ThinF_IMG_20151005_141803_cell_130.png',\n",
       " 'C144P105ThinF_IMG_20151015_163432_cell_311.png',\n",
       " 'C84P45ThinF_IMG_20150818_101226_cell_99.png',\n",
       " 'C91P52ThinF_IMG_20150821_123116_cell_188.png',\n",
       " 'C189P150ThinF_IMG_20151203_142224_cell_85.png',\n",
       " 'C118P79ThinF_IMG_20151002_105018_cell_151.png',\n",
       " 'C132P93ThinF_IMG_20151004_152045_cell_110.png',\n",
       " 'C99P60ThinF_IMG_20150918_141620_cell_57.png',\n",
       " 'C48P9thinF_IMG_20150721_160406_cell_246.png',\n",
       " 'C184P145ThinF_IMG_20151203_103114_cell_148.png',\n",
       " 'C116P77ThinF_IMG_20150930_171844_cell_101.png',\n",
       " 'C68P29N_ThinF_IMG_20150819_134112_cell_146.png',\n",
       " 'C132P93ThinF_IMG_20151004_151733_cell_155.png',\n",
       " 'C85P46ThinF_IMG_20150820_105154_cell_220.png',\n",
       " 'C136P97ThinF_IMG_20151005_142437_cell_118.png',\n",
       " 'C109P70ThinF_IMG_20150930_103811_cell_158.png',\n",
       " 'C173P134NThinF_IMG_20151130_125501_cell_256.png',\n",
       " 'C60P21thinF_IMG_20150804_105034_cell_112.png',\n",
       " 'C189P150ThinF_IMG_20151203_142224_cell_93.png',\n",
       " 'C118P79ThinF_IMG_20151002_105018_cell_147.png',\n",
       " 'C136P97ThinF_IMG_20151005_141803_cell_126.png',\n",
       " 'C182P143NThinF_IMG_20151201_172057_cell_168.png',\n",
       " 'C68P29N_ThinF_IMG_20150819_134112_cell_150.png',\n",
       " 'C116P77ThinF_IMG_20150930_171844_cell_117.png',\n",
       " 'C93P54ThinF_IMG_20150821_164024_cell_198.png',\n",
       " 'C176P137NThinF_IMG_20151201_122708_cell_131.png',\n",
       " 'C39P4thinF_original_IMG_20150622_113842_cell_39.png',\n",
       " 'C132P93ThinF_IMG_20151004_151733_cell_143.png',\n",
       " 'C176P137NThinF_IMG_20151201_122708_cell_125.png',\n",
       " 'C132P93ThinF_IMG_20151004_151733_cell_157.png',\n",
       " 'C68P29N_ThinF_IMG_20150819_134112_cell_144.png',\n",
       " 'C48P9thinF_IMG_20150721_160406_cell_244.png',\n",
       " 'C116P77ThinF_IMG_20150930_171844_cell_103.png',\n",
       " 'C99P60ThinF_IMG_20150918_141620_cell_55.png',\n",
       " 'C132P93ThinF_IMG_20151004_152045_cell_112.png',\n",
       " 'C189P150ThinF_IMG_20151203_142224_cell_87.png',\n",
       " 'C118P79ThinF_IMG_20151002_105018_cell_153.png',\n",
       " 'C136P97ThinF_IMG_20151005_141803_cell_132.png',\n",
       " 'C144P105ThinF_IMG_20151015_163432_cell_313.png',\n",
       " 'C60P21thinF_IMG_20150804_105034_cell_106.png',\n",
       " 'C166P127ThinF_IMG_20151117_194932_cell_222.png',\n",
       " 'C123P84ThinF_IMG_20151002_152144_cell_189.png',\n",
       " 'C182P143NThinF_IMG_20151201_172057_cell_154.png',\n",
       " 'C149P110ThinF_IMG_20151115_114910_cell_288.png',\n",
       " 'C176P137NThinF_IMG_20151201_120612_cell_13.png',\n",
       " 'C93P54ThinF_IMG_20150821_163640_cell_199.png',\n",
       " 'C50P11thinF_IMG_20150724_115651_cell_187.png',\n",
       " 'C136P97ThinF_IMG_20151005_142437_cell_132.png',\n",
       " 'C68P29N_ThinF_IMG_20150819_133236_cell_135.png',\n",
       " 'C175P136NThinF_IMG_20151127_141325_cell_226.png',\n",
       " 'C84P45ThinF_IMG_20150818_101146_cell_102.png',\n",
       " 'C120P81ThinF_IMG_20151002_130715_cell_190.png',\n",
       " 'C101P62ThinF_IMG_20150918_151507_cell_62.png',\n",
       " 'C81P42ThinF_IMG_20150817_120351_cell_187.png',\n",
       " 'C184P145ThinF_IMG_20151203_103114_cell_162.png',\n",
       " 'C183P144NThinF_IMG_20151201_222119_cell_143.png',\n",
       " 'C101P62ThinF_IMG_20150918_151507_cell_76.png',\n",
       " 'C184P145ThinF_IMG_20151203_103114_cell_176.png',\n",
       " 'C59P20thinF_IMG_20150803_113430_cell_3.png',\n",
       " 'C177P138NThinF_IMG_20151201_143704_cell_175.png',\n",
       " 'C80P41ThinF_IMG_20150817_110834_cell_146.png',\n",
       " 'C37BP2_thinF_IMG_20150620_131423a_cell_92.png',\n",
       " 'C39P4thinF_original_IMG_20150622_113842_cell_11.png',\n",
       " 'C176P137NThinF_IMG_20151201_122708_cell_119.png',\n",
       " 'C136P97ThinF_IMG_20151005_142437_cell_126.png',\n",
       " 'C167P128ReThinF_IMG_20151201_105559_cell_240.png',\n",
       " 'C97P58ThinF_IMG_20150917_152225_cell_20.png',\n",
       " 'C48P9thinF_IMG_20150721_161412_cell_179.png',\n",
       " 'C112P73ThinF_IMG_20150930_131401_cell_168.png',\n",
       " 'C174P135NThinF_IMG_20151127_135512_cell_183.png',\n",
       " 'C172P133ThinF_IMG_20151119_155019_cell_242.png',\n",
       " 'C39P4thinF_original_IMG_20150622_111206_cell_98.png',\n",
       " 'C182P143NThinF_IMG_20151201_172057_cell_140.png',\n",
       " 'C144P105ThinF_IMG_20151015_160529_cell_274.png',\n",
       " 'C130P91ThinF_IMG_20151004_142109_cell_136.png',\n",
       " 'C157P118ThinF_IMG_20151115_164026_cell_229.png',\n",
       " 'C51AP12thinF_IMG_20150724_154330_cell_131.png',\n",
       " 'C174P135NThinF_IMG_20151127_135311_cell_211.png',\n",
       " 'C130P91ThinF_IMG_20151004_141428_cell_132.png',\n",
       " 'C123P84ThinF_IMG_20151002_150931_cell_202.png',\n",
       " 'C128P89ThinF_IMG_20151004_131030_cell_165.png',\n",
       " 'C115P76ThinF_IMG_20150930_163156_cell_242.png',\n",
       " 'C136P97ThinF_IMG_20151005_143743_cell_111.png',\n",
       " 'C182P143NThinF_IMG_20151201_172759_cell_54.png',\n",
       " 'C189P150ThinF_IMG_20151203_142113_cell_86.png',\n",
       " 'C68P29N_ThinF_IMG_20150819_134625_cell_17.png',\n",
       " 'C132P93ThinF_IMG_20151004_151733_cell_180.png',\n",
       " 'C59P20thinF_IMG_20150803_113430_cell_25.png',\n",
       " 'C48P9thinF_IMG_20150721_161412_cell_192.png',\n",
       " 'C156P117ThinF_IMG_20151115_154022_cell_280.png',\n",
       " 'C137P98ThinF_IMG_20151005_162648_cell_1.png',\n",
       " 'C181P142ThinF_IMG_20151127_160434_cell_172.png',\n",
       " 'C107P68ThinF_IMG_20150924_221632_cell_169.png',\n",
       " 'C99P60ThinF_IMG_20150918_142128_cell_115.png',\n",
       " 'C182P143NThinF_IMG_20151201_172842_cell_19.png',\n",
       " 'C99P60ThinF_IMG_20150918_142128_cell_101.png',\n",
       " 'C80P41ThinF_IMG_20150817_110957_cell_140.png',\n",
       " 'C180P141NThinF_IMG_20151201_165453_cell_38.png',\n",
       " 'C180P141NThinF_IMG_20151201_170021_cell_18.png',\n",
       " 'C45P6ThinF_IMG_20151130_155110_cell_196.png',\n",
       " 'C48P9thinF_IMG_20150721_161412_cell_186.png',\n",
       " 'C59P20thinF_IMG_20150803_113430_cell_31.png',\n",
       " 'C181P142ThinF_IMG_20151127_160434_cell_166.png',\n",
       " 'C132P93ThinF_IMG_20151004_152257_cell_149.png',\n",
       " 'C129P90ThinF_IMG_20151004_134520_cell_109.png',\n",
       " 'C158P119ThinF_IMG_20151115_181558_cell_199.png',\n",
       " 'C182P143NThinF_IMG_20151201_172759_cell_40.png',\n",
       " 'C136P97ThinF_IMG_20151005_143743_cell_105.png',\n",
       " 'C167P128ReThinF_IMG_20151201_105354_cell_234.png',\n",
       " 'C175P136NThinF_IMG_20151127_142009_cell_242.png',\n",
       " 'C189P150ThinF_IMG_20151203_142113_cell_92.png',\n",
       " 'C77P38ThinF_IMG_20150601_155125_cell_132.png',\n",
       " 'C130P91ThinF_IMG_20151004_141428_cell_126.png',\n",
       " 'C129P90ThinF_IMG_20151004_134520_cell_121.png',\n",
       " 'C164P125ThinF_IMG_20151116_120135_cell_141.png',\n",
       " 'C128P89ThinF_IMG_20151004_131030_cell_159.png',\n",
       " 'C118P79ThinF_IMG_20151002_104831_cell_147.png',\n",
       " 'C39P4thinF_original_IMG_20150622_113446_cell_17.png',\n",
       " 'C133P94ThinF_IMG_20151004_154717_cell_121.png',\n",
       " 'C183P144NThinF_IMG_20151201_223431_cell_108.png',\n",
       " 'C159P120ThinF_IMG_20151115_190421_cell_204.png',\n",
       " 'C136P97ThinF_IMG_20151005_140538_cell_92.png',\n",
       " 'C180P141NThinF_IMG_20151201_170021_cell_30.png',\n",
       " 'C118P79ThinF_IMG_20151002_110725_cell_148.png',\n",
       " 'C182P143NThinF_IMG_20151201_172842_cell_25.png',\n",
       " 'C174P135NThinF_IMG_20151127_135435_cell_211.png',\n",
       " 'C180P141NThinF_IMG_20151201_165453_cell_10.png',\n",
       " 'C59P20thinF_IMG_20150803_113430_cell_19.png',\n",
       " 'C82P43ThinF_IMG_20150817_123500_cell_221.png',\n",
       " 'C159P120ThinF_IMG_20151115_190812_cell_241.png',\n",
       " 'C84P45ThinF_IMG_20150818_104849_cell_14.png',\n",
       " 'C118P79ThinF_IMG_20151002_110609_cell_9.png',\n",
       " 'C82P43ThinF_IMG_20150817_123500_cell_235.png',\n",
       " 'C182P143NThinF_IMG_20151201_172842_cell_31.png',\n",
       " 'C180P141NThinF_IMG_20151201_170021_cell_24.png',\n",
       " 'C174P135NThinF_IMG_20151127_135435_cell_205.png',\n",
       " 'C133P94ThinF_IMG_20151004_155331_cell_115.png',\n",
       " 'C91P52ThinF_IMG_20150821_123116_cell_175.png',\n",
       " 'C51AP12thinF_IMG_20150724_154330_cell_119.png',\n",
       " 'C133P94ThinF_IMG_20151004_154717_cell_135.png',\n",
       " 'C118P79ThinF_IMG_20151002_104831_cell_153.png',\n",
       " 'C116P77ThinF_IMG_20150930_171809_cell_72.png',\n",
       " 'C128P89ThinF_IMG_20151004_131231_cell_138.png',\n",
       " 'C136P97ThinF_IMG_20151005_140646_cell_98.png',\n",
       " 'C180P141NThinF_IMG_20151201_163702_cell_198.png',\n",
       " 'C186P147NThinF_IMG_20151203_150222_cell_166.png',\n",
       " 'C51AP12thinF_IMG_20150724_162636_cell_80.png',\n",
       " 'C186P147NThinF_IMG_20151203_150557_cell_185.png',\n",
       " 'C180P141NThinF_IMG_20151201_165659_cell_43.png',\n",
       " 'C99P60ThinF_IMG_20150918_141520_cell_87.png',\n",
       " 'C137P98ThinF_IMG_20151005_161659_cell_6.png',\n",
       " 'C93P54ThinF_IMG_20150821_163815_cell_216.png',\n",
       " 'C68P29N_ThinF_IMG_20150819_134830_cell_73.png',\n",
       " 'C186P147NThinF_IMG_20151203_150859_cell_165.png',\n",
       " 'C184P145ThinF_IMG_20151203_103637_cell_162.png',\n",
       " 'C116P77ThinF_IMG_20150930_171448_cell_117.png',\n",
       " 'C101P62ThinF_IMG_20150923_165215_cell_14.png',\n",
       " 'C180P141NThinF_IMG_20151201_165423_cell_168.png',\n",
       " 'C68P29N_ThinF_IMG_20150819_134830_cell_67.png',\n",
       " 'C116P77ThinF_IMG_20150930_171448_cell_103.png',\n",
       " 'C184P145ThinF_IMG_20151203_103637_cell_176.png',\n",
       " 'C186P147NThinF_IMG_20151203_150859_cell_171.png',\n",
       " 'C113P74ThinF_IMG_20150930_134429_cell_181.png',\n",
       " 'C99P60ThinF_IMG_20150918_141520_cell_93.png',\n",
       " 'C140P101ThinF_IMG_20151005_211530_cell_149.png',\n",
       " 'C39P4thinF_original_IMG_20150622_110352_cell_106.png',\n",
       " 'C51AP12thinF_IMG_20150724_162636_cell_94.png',\n",
       " 'C116P77ThinF_IMG_20150930_171809_cell_66.png',\n",
       " 'C179P140ThinF_IMG_20151127_153852_cell_158.png',\n",
       " 'C129P90ThinF_IMG_20151004_133538_cell_83.png',\n",
       " 'C176P137NThinF_IMG_20151201_114235_cell_9.png',\n",
       " 'C174P135NThinF_IMG_20151127_135554_cell_191.png',\n",
       " 'C179P140ThinF_IMG_20151127_153852_cell_170.png',\n",
       " 'C137P98ThinF_IMG_20151005_160918_cell_78.png',\n",
       " 'C68P29N_ThinF_IMG_20150819_134712_cell_21.png',\n",
       " 'C132P93ThinF_IMG_20151004_153030_cell_41.png',\n",
       " 'C95P56ThinF_IMG_20150821_171701_cell_98.png',\n",
       " 'C99P60ThinF_IMG_20150918_141001_cell_124.png',\n",
       " 'C101P62ThinF_IMG_20150923_165215_cell_28.png',\n",
       " 'C99P60ThinF_IMG_20150918_142128_cell_89.png',\n",
       " 'C172P133ThinF_IMG_20151119_155343_cell_274.png',\n",
       " 'C187P148NThinF_IMG_20151203_153713_cell_196.png',\n",
       " 'C51AP12thinF_IMG_20150724_155557_cell_82.png',\n",
       " 'C180P141NThinF_IMG_20151201_165423_cell_154.png',\n",
       " 'C99P60ThinF_IMG_20150918_141001_cell_130.png',\n",
       " 'C174P135NThinF_IMG_20151127_135554_cell_185.png',\n",
       " 'C179P140ThinF_IMG_20151127_153852_cell_164.png',\n",
       " 'C68P29N_ThinF_IMG_20150819_134712_cell_3.png',\n",
       " 'C68P29N_ThinF_IMG_20150819_134712_cell_35.png',\n",
       " 'C129P90ThinF_IMG_20151004_133538_cell_97.png',\n",
       " 'C60P21thinF_IMG_20150804_113011_cell_12.png',\n",
       " 'C90P51ThinF_IMG_20150821_120044_cell_238.png',\n",
       " 'C59P20thinF_IMG_20150803_112802_cell_159.png',\n",
       " 'C164P125ThinF_IMG_20151116_114404_cell_179.png',\n",
       " 'C59P20thinF_IMG_20150803_112733_cell_213.png',\n",
       " 'C120P81ThinF_IMG_20151002_130150_cell_210.png',\n",
       " 'C178P139NThinF_IMG_20151201_154735_cell_165.png',\n",
       " 'C168P129ThinF_IMG_20151118_153739_cell_169.png',\n",
       " 'C120P81ThinF_IMG_20151002_130150_cell_204.png',\n",
       " 'C136P97ThinF_IMG_20151005_143329_cell_109.png',\n",
       " 'C63P24N_ThinF_IMG_20150818_143423_cell_161.png',\n",
       " 'C98P59ThinF_IMG_20150917_154452_cell_207.png',\n",
       " 'C92P53ThinF_IMG_20150821_151224_cell_208.png',\n",
       " 'C117P78ThinF_IMG_20150930_222228_cell_84.png',\n",
       " 'C184P145ThinF_IMG_20151203_102543_cell_169.png',\n",
       " 'C111P72ThinF_IMG_20150930_113049_cell_165.png',\n",
       " 'C134P95ThinF_IMG_20151005_121343_cell_123.png',\n",
       " 'C130P91ThinF_IMG_20151004_141341_cell_154.png',\n",
       " 'C73P34_ThinF_IMG_20150815_111653_cell_179.png',\n",
       " 'C59P20thinF_IMG_20150803_113809_cell_43.png',\n",
       " 'C101P62ThinF_IMG_20150918_151335_cell_69.png',\n",
       " 'C48P9thinF_IMG_20150721_164031_cell_2.png',\n",
       " 'C184P145ThinF_IMG_20151203_102543_cell_141.png',\n",
       " 'C166P127ThinF_IMG_20151117_193931_cell_206.png',\n",
       " 'C172P133ThinF_IMG_20151119_154936_cell_255.png',\n",
       " 'C101P62ThinF_IMG_20150923_170344_cell_84.png',\n",
       " 'C186P147NThinF_IMG_20151203_150808_cell_145.png',\n",
       " 'C184P145ThinF_IMG_20151203_104334_cell_45.png',\n",
       " 'C118P79ThinF_IMG_20151002_105346_cell_151.png',\n",
       " 'C184P145ThinF_IMG_20151203_103326_cell_126.png',\n",
       " 'C59P20thinF_IMG_20150803_112802_cell_165.png',\n",
       " 'C52P13thinF_IMG_20150725_123938_cell_195.png',\n",
       " 'C183P144NThinF_IMG_20151201_223758_cell_127.png',\n",
       " 'C118P79ThinF_IMG_20151002_110942_cell_2.png',\n",
       " 'C59P20thinF_IMG_20150803_112802_cell_171.png',\n",
       " 'C109P70ThinF_IMG_20150930_103645_cell_173.png',\n",
       " 'C183P144NThinF_IMG_20151201_223758_cell_133.png',\n",
       " 'C185P146ThinF_IMG_20151203_110344_cell_265.png',\n",
       " 'C184P145ThinF_IMG_20151203_103326_cell_132.png',\n",
       " 'C91P52ThinF_IMG_20150821_124937_cell_222.png',\n",
       " 'C157P118ThinF_IMG_20151115_164755_cell_187.png',\n",
       " 'C101P62ThinF_IMG_20150918_151335_cell_55.png',\n",
       " 'C184P145ThinF_IMG_20151203_104030_cell_17.png',\n",
       " 'C180P141NThinF_IMG_20151201_163702_cell_173.png',\n",
       " 'C184P145ThinF_IMG_20151203_102543_cell_155.png',\n",
       " 'C101P62ThinF_IMG_20150923_170344_cell_90.png',\n",
       " 'C70P31_ThinF_IMG_20150813_131457_cell_9.png',\n",
       " 'C116P77ThinF_IMG_20150930_171448_cell_86.png',\n",
       " 'C116P77ThinF_IMG_20150930_171635_cell_112.png',\n",
       " 'C132P93ThinF_IMG_20151004_151941_cell_17.png',\n",
       " 'C101P62ThinF_IMG_20150918_155731_cell_76.png',\n",
       " 'C48P9thinF_IMG_20150721_162732_cell_6.png',\n",
       " 'C129P90ThinF_IMG_20151004_134944_cell_14.png',\n",
       " 'C174P135NThinF_IMG_20151127_135435_cell_198.png',\n",
       " 'C59P20thinF_IMG_20150803_111333_cell_182.png',\n",
       " 'C137P98ThinF_IMG_20151005_161306_cell_13.png',\n",
       " 'C132P93ThinF_IMG_20151004_151701_cell_149.png',\n",
       " 'C68P29N_ThinF_IMG_20150819_133447_cell_119.png',\n",
       " 'C137P98ThinF_IMG_20151005_163218_cell_73.png',\n",
       " 'C84P45ThinF_IMG_20150818_102800_cell_18.png',\n",
       " 'C146P107ThinF_IMG_20151018_135703_cell_224.png',\n",
       " 'C184P145ThinF_IMG_20151203_102405_cell_180.png',\n",
       " 'C59P20thinF_IMG_20150803_111244_cell_169.png',\n",
       " 'C132P93ThinF_IMG_20151004_152808_cell_58.png',\n",
       " 'C159P120ThinF_IMG_20151115_190421_cell_199.png',\n",
       " 'C143P104ThinF_IMG_20151005_225454_cell_184.png',\n",
       " 'C116P77ThinF_IMG_20150930_171448_cell_92.png',\n",
       " 'C116P77ThinF_IMG_20150930_171635_cell_106.png',\n",
       " 'C68P29N_ThinF_IMG_20150819_133350_cell_128.png',\n",
       " 'C95P56ThinF_IMG_20150821_172351_cell_104.png',\n",
       " 'C101P62ThinF_IMG_20150923_170246_cell_83.png',\n",
       " 'C46P7ThinF_IMG_20151130_210938_cell_160.png',\n",
       " 'C129P90ThinF_IMG_20151004_134944_cell_28.png',\n",
       " 'C167P128ReThinF_IMG_20151201_110011_cell_236.png',\n",
       " 'C189P150ThinF_IMG_20151203_141719_cell_61.png',\n",
       " 'C114P75ThinF_IMG_20150930_151150_cell_177.png',\n",
       " 'C132P93ThinF_IMG_20151004_152642_cell_52.png',\n",
       " 'C76P37ThinF_IMG_20150815_171214_cell_196.png',\n",
       " 'C145P106ThinF_IMG_20151016_154844_cell_155.png',\n",
       " 'C189P150ThinF_IMG_20151203_140902_cell_110.png',\n",
       " ...]"
      ]
     },
     "execution_count": 23,
     "metadata": {},
     "output_type": "execute_result"
    }
   ],
   "source": [
    "os.listdir(train_path+'/parasitized')"
   ]
  },
  {
   "cell_type": "code",
   "execution_count": 24,
   "id": "vietnamese-american",
   "metadata": {},
   "outputs": [
    {
     "data": {
      "text/plain": [
       "'C189P150ThinF_IMG_20151203_142224_cell_84.png'"
      ]
     },
     "execution_count": 24,
     "metadata": {},
     "output_type": "execute_result"
    }
   ],
   "source": [
    "os.listdir(train_path+'/parasitized')[0]"
   ]
  },
  {
   "cell_type": "code",
   "execution_count": 25,
   "id": "pending-correction",
   "metadata": {},
   "outputs": [],
   "source": [
    "para_cell=(train_path+'/parasitized/C189P150ThinF_IMG_20151203_142224_cell_84.png')"
   ]
  },
  {
   "cell_type": "code",
   "execution_count": 26,
   "id": "compressed-administration",
   "metadata": {},
   "outputs": [
    {
     "data": {
      "text/plain": [
       "'cell_images/train/parasitized/C189P150ThinF_IMG_20151203_142224_cell_84.png'"
      ]
     },
     "execution_count": 26,
     "metadata": {},
     "output_type": "execute_result"
    }
   ],
   "source": [
    "para_cell"
   ]
  },
  {
   "cell_type": "code",
   "execution_count": 28,
   "id": "precise-mount",
   "metadata": {},
   "outputs": [
    {
     "data": {
      "text/plain": [
       "<matplotlib.image.AxesImage at 0x137c56220>"
      ]
     },
     "execution_count": 28,
     "metadata": {},
     "output_type": "execute_result"
    },
    {
     "data": {
      "image/png": "[encoded data removed]",
      "text/plain": [
       "<Figure size 432x288 with 1 Axes>"
      ]
     },
     "metadata": {
      "needs_background": "light"
     },
     "output_type": "display_data"
    }
   ],
   "source": [
    "plt.imshow(imread(para_cell))"
   ]
  },
  {
   "cell_type": "code",
   "execution_count": 29,
   "id": "palestinian-extreme",
   "metadata": {},
   "outputs": [
    {
     "data": {
      "text/plain": [
       "'C13NThinF_IMG_20150614_131318_cell_179.png'"
      ]
     },
     "execution_count": 29,
     "metadata": {},
     "output_type": "execute_result"
    }
   ],
   "source": [
    "os.listdir(train_path+'/uninfected')[0]"
   ]
  },
  {
   "cell_type": "code",
   "execution_count": 30,
   "id": "negative-procurement",
   "metadata": {},
   "outputs": [],
   "source": [
    "uninfected_cell=train_path+'/uninfected/C13NThinF_IMG_20150614_131318_cell_179.png';"
   ]
  },
  {
   "cell_type": "code",
   "execution_count": 31,
   "id": "received-sailing",
   "metadata": {},
   "outputs": [
    {
     "data": {
      "text/plain": [
       "<matplotlib.image.AxesImage at 0x1378f5ac0>"
      ]
     },
     "execution_count": 31,
     "metadata": {},
     "output_type": "execute_result"
    },
    {
     "data": {
      "image/png": "[encoded data removed]",
      "text/plain": [
       "<Figure size 432x288 with 1 Axes>"
      ]
     },
     "metadata": {
      "needs_background": "light"
     },
     "output_type": "display_data"
    }
   ],
   "source": [
    "plt.imshow(imread(uninfected_cell))"
   ]
  },
  {
   "cell_type": "code",
   "execution_count": 33,
   "id": "considered-watch",
   "metadata": {},
   "outputs": [
    {
     "data": {
      "text/plain": [
       "12480"
      ]
     },
     "execution_count": 33,
     "metadata": {},
     "output_type": "execute_result"
    }
   ],
   "source": [
    "len(os.listdir(train_path+'/parasitized'))"
   ]
  },
  {
   "cell_type": "code",
   "execution_count": 36,
   "id": "floppy-oxford",
   "metadata": {},
   "outputs": [
    {
     "data": {
      "text/plain": [
       "12480"
      ]
     },
     "execution_count": 36,
     "metadata": {},
     "output_type": "execute_result"
    }
   ],
   "source": [
    "len(os.listdir(train_path+'/uninfected'))"
   ]
  },
  {
   "cell_type": "code",
   "execution_count": 37,
   "id": "sublime-server",
   "metadata": {},
   "outputs": [
    {
     "data": {
      "text/plain": [
       "1300"
      ]
     },
     "execution_count": 37,
     "metadata": {},
     "output_type": "execute_result"
    }
   ],
   "source": [
    "len(os.listdir(test_path+'/parasitized'))"
   ]
  },
  {
   "cell_type": "code",
   "execution_count": 35,
   "id": "genetic-gathering",
   "metadata": {},
   "outputs": [
    {
     "data": {
      "text/plain": [
       "1300"
      ]
     },
     "execution_count": 35,
     "metadata": {},
     "output_type": "execute_result"
    }
   ],
   "source": [
    "len(os.listdir(test_path+'/uninfected'))"
   ]
  },
  {
   "cell_type": "code",
   "execution_count": 38,
   "id": "threaded-lending",
   "metadata": {},
   "outputs": [],
   "source": [
    "dim1=[]\n",
    "dim2=[]\n",
    "\n",
    "for image_filename in os.listdir(test_path+'/uninfected'):\n",
    "    img=imread(test_path+'/uninfected/'+image_filename)\n",
    "    d1,d2,colors=img.shape\n",
    "    dim1.append(d1)\n",
    "    dim2.append(d2)"
   ]
  },
  {
   "cell_type": "code",
   "execution_count": 39,
   "id": "adverse-truck",
   "metadata": {},
   "outputs": [
    {
     "name": "stderr",
     "output_type": "stream",
     "text": [
      "/Users/soumyajitpc/miniforge3/envs/python38-demo-v4/lib/python3.8/site-packages/seaborn/_decorators.py:36: FutureWarning: Pass the following variables as keyword args: x, y. From version 0.12, the only valid positional argument will be `data`, and passing other arguments without an explicit keyword will result in an error or misinterpretation.\n",
      "  warnings.warn(\n"
     ]
    },
    {
     "data": {
      "text/plain": [
       "<seaborn.axisgrid.JointGrid at 0x137ccfe20>"
      ]
     },
     "execution_count": 39,
     "metadata": {},
     "output_type": "execute_result"
    },
    {
     "data": {
      "image/png": "[encoded data removed]",
      "text/plain": [
       "<Figure size 432x432 with 3 Axes>"
      ]
     },
     "metadata": {
      "needs_background": "light"
     },
     "output_type": "display_data"
    }
   ],
   "source": [
    "sns.jointplot(dim1,dim2)"
   ]
  },
  {
   "cell_type": "code",
   "execution_count": 40,
   "id": "silent-berkeley",
   "metadata": {},
   "outputs": [
    {
     "data": {
      "text/plain": [
       "130.92538461538462"
      ]
     },
     "execution_count": 40,
     "metadata": {},
     "output_type": "execute_result"
    }
   ],
   "source": [
    "np.mean(dim1)"
   ]
  },
  {
   "cell_type": "code",
   "execution_count": 41,
   "id": "operating-glass",
   "metadata": {},
   "outputs": [
    {
     "data": {
      "text/plain": [
       "130.75"
      ]
     },
     "execution_count": 41,
     "metadata": {},
     "output_type": "execute_result"
    }
   ],
   "source": [
    "np.mean(dim2)"
   ]
  },
  {
   "cell_type": "code",
   "execution_count": 42,
   "id": "buried-water",
   "metadata": {},
   "outputs": [],
   "source": [
    "image_shape=(130,130,3)"
   ]
  },
  {
   "cell_type": "code",
   "execution_count": 43,
   "id": "smart-powder",
   "metadata": {},
   "outputs": [],
   "source": [
    "from keras.preprocessing.image import ImageDataGenerator"
   ]
  },
  {
   "cell_type": "code",
   "execution_count": 45,
   "id": "global-frost",
   "metadata": {},
   "outputs": [],
   "source": [
    "image_gen=ImageDataGenerator(rotation_range=20,\n",
    "                            width_shift_range=0.1,\n",
    "                            height_shift_range=0.1,\n",
    "                            shear_range=0.1,\n",
    "                            zoom_range=0.1,\n",
    "                            horizontal_flip=True,\n",
    "                            fill_mode='nearest',\n",
    "                            )"
   ]
  },
  {
   "cell_type": "code",
   "execution_count": 47,
   "id": "electrical-server",
   "metadata": {},
   "outputs": [
    {
     "data": {
      "text/plain": [
       "<matplotlib.image.AxesImage at 0x169f0f850>"
      ]
     },
     "execution_count": 47,
     "metadata": {},
     "output_type": "execute_result"
    },
    {
     "data": {
      "image/png": "[encoded data removed]",
      "text/plain": [
       "<Figure size 432x288 with 1 Axes>"
      ]
     },
     "metadata": {
      "needs_background": "light"
     },
     "output_type": "display_data"
    }
   ],
   "source": [
    "para_img=imread(para_cell)\n",
    "plt.imshow(para_img)"
   ]
  },
  {
   "cell_type": "code",
   "execution_count": 53,
   "id": "boring-marathon",
   "metadata": {},
   "outputs": [
    {
     "data": {
      "text/plain": [
       "<matplotlib.image.AxesImage at 0x16aa31be0>"
      ]
     },
     "execution_count": 53,
     "metadata": {},
     "output_type": "execute_result"
    },
    {
     "data": {
      "image/png": "[encoded data removed]",
      "text/plain": [
       "<Figure size 432x288 with 1 Axes>"
      ]
     },
     "metadata": {
      "needs_background": "light"
     },
     "output_type": "display_data"
    }
   ],
   "source": [
    "plt.imshow(image_gen.random_transform(para_img))"
   ]
  },
  {
   "cell_type": "code",
   "execution_count": 54,
   "id": "classified-compact",
   "metadata": {},
   "outputs": [
    {
     "name": "stdout",
     "output_type": "stream",
     "text": [
      "Found 24958 images belonging to 2 classes.\n"
     ]
    },
    {
     "data": {
      "text/plain": [
       "<tensorflow.python.keras.preprocessing.image.DirectoryIterator at 0x16aa78d00>"
      ]
     },
     "execution_count": 54,
     "metadata": {},
     "output_type": "execute_result"
    }
   ],
   "source": [
    "image_gen.flow_from_directory(train_path)"
   ]
  },
  {
   "cell_type": "code",
   "execution_count": 55,
   "id": "hindu-firewall",
   "metadata": {},
   "outputs": [
    {
     "name": "stdout",
     "output_type": "stream",
     "text": [
      "Found 2600 images belonging to 2 classes.\n"
     ]
    },
    {
     "data": {
      "text/plain": [
       "<tensorflow.python.keras.preprocessing.image.DirectoryIterator at 0x16aaaf550>"
      ]
     },
     "execution_count": 55,
     "metadata": {},
     "output_type": "execute_result"
    }
   ],
   "source": [
    "image_gen.flow_from_directory(test_path)"
   ]
  },
  {
   "cell_type": "code",
   "execution_count": 56,
   "id": "preliminary-chemical",
   "metadata": {},
   "outputs": [],
   "source": [
    "from tensorflow.keras.models import Sequential"
   ]
  },
  {
   "cell_type": "code",
   "execution_count": 58,
   "id": "adult-cincinnati",
   "metadata": {},
   "outputs": [],
   "source": [
    "from tensorflow.keras.layers import Dense,Conv2D,MaxPool2D,Dropout,Flatten"
   ]
  },
  {
   "cell_type": "code",
   "execution_count": 60,
   "id": "micro-wireless",
   "metadata": {},
   "outputs": [],
   "source": [
    "model=Sequential()\n",
    "\n",
    "model.add(Conv2D(filters=32,kernel_size=(3,3),input_shape=image_shape,activation='relu'))\n",
    "model.add(MaxPool2D(pool_size=(2,2)))\n",
    "\n",
    "model.add(Conv2D(filters=64,kernel_size=(3,3),input_shape=image_shape,activation='relu'))\n",
    "model.add(MaxPool2D(pool_size=(2,2)))\n",
    "\n",
    "model.add(Conv2D(filters=64,kernel_size=(3,3),input_shape=image_shape,activation='relu'))\n",
    "model.add(MaxPool2D(pool_size=(2,2)))\n",
    "\n",
    "model.add(Flatten())\n",
    "\n",
    "model.add(Dense(128,activation='relu'))\n",
    "model.add(Dropout(0.5))\n",
    "\n",
    "model.add(Dense(1,activation='sigmoid'))\n",
    "\n",
    "model.compile(loss='binary_crossentropy',optimizer='adam',metrics=['accuracy'])"
   ]
  },
  {
   "cell_type": "code",
   "execution_count": 62,
   "id": "indoor-theorem",
   "metadata": {},
   "outputs": [
    {
     "name": "stdout",
     "output_type": "stream",
     "text": [
      "Model: \"sequential_1\"\n",
      "_________________________________________________________________\n",
      "Layer (type)                 Output Shape              Param #   \n",
      "=================================================================\n",
      "conv2d (Conv2D)              (None, 128, 128, 32)      896       \n",
      "_________________________________________________________________\n",
      "max_pooling2d (MaxPooling2D) (None, 64, 64, 32)        0         \n",
      "_________________________________________________________________\n",
      "conv2d_1 (Conv2D)            (None, 62, 62, 64)        18496     \n",
      "_________________________________________________________________\n",
      "max_pooling2d_1 (MaxPooling2 (None, 31, 31, 64)        0         \n",
      "_________________________________________________________________\n",
      "conv2d_2 (Conv2D)            (None, 29, 29, 64)        36928     \n",
      "_________________________________________________________________\n",
      "max_pooling2d_2 (MaxPooling2 (None, 14, 14, 64)        0         \n",
      "_________________________________________________________________\n",
      "flatten (Flatten)            (None, 12544)             0         \n",
      "_________________________________________________________________\n",
      "dense (Dense)                (None, 128)               1605760   \n",
      "_________________________________________________________________\n",
      "dropout (Dropout)            (None, 128)               0         \n",
      "_________________________________________________________________\n",
      "dense_1 (Dense)              (None, 1)                 129       \n",
      "=================================================================\n",
      "Total params: 1,662,209\n",
      "Trainable params: 1,662,209\n",
      "Non-trainable params: 0\n",
      "_________________________________________________________________\n"
     ]
    }
   ],
   "source": [
    "model.summary()"
   ]
  },
  {
   "cell_type": "code",
   "execution_count": 63,
   "id": "exceptional-beijing",
   "metadata": {},
   "outputs": [],
   "source": [
    "from tensorflow.keras.callbacks import EarlyStopping"
   ]
  },
  {
   "cell_type": "code",
   "execution_count": 64,
   "id": "bridal-support",
   "metadata": {},
   "outputs": [],
   "source": [
    "early_stop=EarlyStopping(monitor='val_loss',patience=2)"
   ]
  },
  {
   "cell_type": "code",
   "execution_count": 65,
   "id": "cultural-vienna",
   "metadata": {},
   "outputs": [],
   "source": [
    "batch_size=16"
   ]
  },
  {
   "cell_type": "code",
   "execution_count": 67,
   "id": "amended-wrong",
   "metadata": {},
   "outputs": [
    {
     "name": "stdout",
     "output_type": "stream",
     "text": [
      "Found 24958 images belonging to 2 classes.\n"
     ]
    }
   ],
   "source": [
    "train_image_gen=image_gen.flow_from_directory(train_path,\n",
    "                                             target_size=image_shape[:2],\n",
    "                                             color_mode='rgb',\n",
    "                                             batch_size=batch_size,\n",
    "                                             class_mode='binary')"
   ]
  },
  {
   "cell_type": "code",
   "execution_count": 70,
   "id": "divided-rating",
   "metadata": {},
   "outputs": [
    {
     "name": "stdout",
     "output_type": "stream",
     "text": [
      "Found 2600 images belonging to 2 classes.\n"
     ]
    }
   ],
   "source": [
    "test_image_gen=image_gen.flow_from_directory(test_path,\n",
    "                                             target_size=image_shape[:2],\n",
    "                                             color_mode='rgb',\n",
    "                                             batch_size=batch_size,\n",
    "                                             class_mode='binary',shuffle=False)"
   ]
  },
  {
   "cell_type": "code",
   "execution_count": 71,
   "id": "focused-desire",
   "metadata": {},
   "outputs": [
    {
     "data": {
      "text/plain": [
       "{'parasitized': 0, 'uninfected': 1}"
      ]
     },
     "execution_count": 71,
     "metadata": {},
     "output_type": "execute_result"
    }
   ],
   "source": [
    "train_image_gen.class_indices"
   ]
  },
  {
   "cell_type": "code",
   "execution_count": 72,
   "id": "amazing-translator",
   "metadata": {},
   "outputs": [
    {
     "name": "stderr",
     "output_type": "stream",
     "text": [
      "/Users/soumyajitpc/miniforge3/envs/python38-demo-v4/lib/python3.8/site-packages/tensorflow/python/keras/engine/training.py:1844: UserWarning: `Model.fit_generator` is deprecated and will be removed in a future version. Please use `Model.fit`, which supports generators.\n",
      "  warnings.warn('`Model.fit_generator` is deprecated and '\n"
     ]
    },
    {
     "name": "stdout",
     "output_type": "stream",
     "text": [
      "Epoch 1/20\n",
      "1560/1560 [==============================] - 92s 59ms/step - loss: 2.5508 - accuracy: 0.5458 - val_loss: 0.6833 - val_accuracy: 0.5538\n",
      "Epoch 2/20\n",
      "1560/1560 [==============================] - 91s 58ms/step - loss: 0.6900 - accuracy: 0.5597 - val_loss: 0.6755 - val_accuracy: 0.5688\n",
      "Epoch 3/20\n",
      "1560/1560 [==============================] - 92s 59ms/step - loss: 0.6422 - accuracy: 0.6474 - val_loss: 0.3111 - val_accuracy: 0.8865\n",
      "Epoch 4/20\n",
      "1560/1560 [==============================] - 93s 59ms/step - loss: 0.2759 - accuracy: 0.9109 - val_loss: 0.2290 - val_accuracy: 0.9296\n",
      "Epoch 5/20\n",
      "1560/1560 [==============================] - 97s 62ms/step - loss: 0.2572 - accuracy: 0.9284 - val_loss: 0.2071 - val_accuracy: 0.9427\n",
      "Epoch 6/20\n",
      "1560/1560 [==============================] - 104s 67ms/step - loss: 0.2286 - accuracy: 0.9352 - val_loss: 0.2393 - val_accuracy: 0.9396\n",
      "Epoch 7/20\n",
      "1560/1560 [==============================] - 107s 68ms/step - loss: 0.2601 - accuracy: 0.9342 - val_loss: 0.1847 - val_accuracy: 0.9415\n",
      "Epoch 8/20\n",
      "1560/1560 [==============================] - 109s 70ms/step - loss: 0.2064 - accuracy: 0.9402 - val_loss: 0.1633 - val_accuracy: 0.9488\n",
      "Epoch 9/20\n",
      "1560/1560 [==============================] - 131s 84ms/step - loss: 0.1988 - accuracy: 0.9430 - val_loss: 0.1993 - val_accuracy: 0.9400\n",
      "Epoch 10/20\n",
      "1560/1560 [==============================] - 113s 72ms/step - loss: 0.2003 - accuracy: 0.9412 - val_loss: 0.2144 - val_accuracy: 0.9369\n"
     ]
    }
   ],
   "source": [
    "results=model.fit_generator(train_image_gen,epochs=20,\n",
    "                            validation_data=test_image_gen,\n",
    "                            callbacks=[early_stop])"
   ]
  },
  {
   "cell_type": "code",
   "execution_count": 74,
   "id": "psychological-oxygen",
   "metadata": {},
   "outputs": [],
   "source": [
    "import tensorflow as tf"
   ]
  },
  {
   "cell_type": "code",
   "execution_count": 78,
   "id": "regulated-chemical",
   "metadata": {},
   "outputs": [
    {
     "name": "stdout",
     "output_type": "stream",
     "text": [
      "WARNING:tensorflow:FOR KERAS USERS: The object that you are saving contains one or more Keras models or layers. If you are loading the SavedModel with `tf.keras.models.load_model`, continue reading (otherwise, you may ignore the following instructions). Please change your code to save with `tf.keras.models.save_model` or `model.save`, and confirm that the file \"keras.metadata\" exists in the export directory. In the future, Keras will only load the SavedModels that have this file. In other words, `tf.saved_model.save` will no longer write SavedModels that can be recovered as Keras models (this will apply in TF 2.5).\n",
      "\n",
      "FOR DEVS: If you are overwriting _tracking_metadata in your class, this property has been used to save metadata in the SavedModel. The metadta field will be deprecated soon, so please move the metadata to a different file.\n",
      "INFO:tensorflow:Assets written to: malaria/assets\n"
     ]
    }
   ],
   "source": [
    "\n",
    "tf.keras.models.save_model(\n",
    "    model, 'malaria', overwrite=True, include_optimizer=True, save_format=None,\n",
    "    signatures=None, options=None, save_traces=True\n",
    ")"
   ]
  },
  {
   "cell_type": "code",
   "execution_count": 79,
   "id": "medical-advertiser",
   "metadata": {},
   "outputs": [
    {
     "name": "stderr",
     "output_type": "stream",
     "text": [
      "/Users/soumyajitpc/miniforge3/envs/python38-demo-v4/lib/python3.8/site-packages/tensorflow/python/keras/engine/training.py:1877: UserWarning: `Model.evaluate_generator` is deprecated and will be removed in a future version. Please use `Model.evaluate`, which supports generators.\n",
      "  warnings.warn('`Model.evaluate_generator` is deprecated and '\n"
     ]
    },
    {
     "data": {
      "text/plain": [
       "[0.2148544043302536, 0.943461537361145]"
      ]
     },
     "execution_count": 79,
     "metadata": {},
     "output_type": "execute_result"
    }
   ],
   "source": [
    "model.evaluate_generator(test_image_gen)"
   ]
  },
  {
   "cell_type": "code",
   "execution_count": 80,
   "id": "steady-morris",
   "metadata": {},
   "outputs": [
    {
     "data": {
      "text/plain": [
       "['loss', 'accuracy']"
      ]
     },
     "execution_count": 80,
     "metadata": {},
     "output_type": "execute_result"
    }
   ],
   "source": [
    "model.metrics_names"
   ]
  },
  {
   "cell_type": "code",
   "execution_count": 81,
   "id": "fleet-shannon",
   "metadata": {},
   "outputs": [],
   "source": [
    "pred=model.predict(test_image_gen)"
   ]
  },
  {
   "cell_type": "code",
   "execution_count": 82,
   "id": "greek-arrest",
   "metadata": {},
   "outputs": [],
   "source": [
    "predictions=pred>0.5"
   ]
  },
  {
   "cell_type": "code",
   "execution_count": 83,
   "id": "separate-committee",
   "metadata": {},
   "outputs": [
    {
     "data": {
      "text/plain": [
       "2600"
      ]
     },
     "execution_count": 83,
     "metadata": {},
     "output_type": "execute_result"
    }
   ],
   "source": [
    "len(pred)"
   ]
  },
  {
   "cell_type": "code",
   "execution_count": 84,
   "id": "violent-moral",
   "metadata": {},
   "outputs": [],
   "source": [
    "from sklearn.metrics import classification_report,confusion_matrix"
   ]
  },
  {
   "cell_type": "code",
   "execution_count": 85,
   "id": "atlantic-founder",
   "metadata": {},
   "outputs": [
    {
     "data": {
      "text/plain": [
       "array([0, 0, 0, ..., 1, 1, 1], dtype=int32)"
      ]
     },
     "execution_count": 85,
     "metadata": {},
     "output_type": "execute_result"
    }
   ],
   "source": [
    "test_image_gen.classes"
   ]
  },
  {
   "cell_type": "code",
   "execution_count": 86,
   "id": "digital-serial",
   "metadata": {},
   "outputs": [
    {
     "name": "stdout",
     "output_type": "stream",
     "text": [
      "              precision    recall  f1-score   support\n",
      "\n",
      "           0       0.96      0.91      0.94      1300\n",
      "           1       0.92      0.96      0.94      1300\n",
      "\n",
      "    accuracy                           0.94      2600\n",
      "   macro avg       0.94      0.94      0.94      2600\n",
      "weighted avg       0.94      0.94      0.94      2600\n",
      "\n"
     ]
    }
   ],
   "source": [
    "print(classification_report(test_image_gen.classes,predictions))"
   ]
  },
  {
   "cell_type": "code",
   "execution_count": 87,
   "id": "honest-syndrome",
   "metadata": {},
   "outputs": [
    {
     "data": {
      "text/plain": [
       "array([[1187,  113],\n",
       "       [  51, 1249]])"
      ]
     },
     "execution_count": 87,
     "metadata": {},
     "output_type": "execute_result"
    }
   ],
   "source": [
    "confusion_matrix(test_image_gen.classes,predictions)"
   ]
  },
  {
   "cell_type": "code",
   "execution_count": 88,
   "id": "separate-escape",
   "metadata": {},
   "outputs": [],
   "source": [
    "from tensorflow.keras.preprocessing import image"
   ]
  },
  {
   "cell_type": "code",
   "execution_count": 91,
   "id": "western-dictionary",
   "metadata": {},
   "outputs": [],
   "source": [
    "my_img=image.load_img(para_cell,target_size=image_shape)"
   ]
  },
  {
   "cell_type": "code",
   "execution_count": 92,
   "id": "weird-adobe",
   "metadata": {},
   "outputs": [
    {
     "data": {
      "image/png": "[encoded data removed]",
      "text/plain": [
       "<PIL.Image.Image image mode=RGB size=130x130 at 0x173A44760>"
      ]
     },
     "execution_count": 92,
     "metadata": {},
     "output_type": "execute_result"
    }
   ],
   "source": [
    "my_img"
   ]
  },
  {
   "cell_type": "code",
   "execution_count": 93,
   "id": "usual-teaching",
   "metadata": {},
   "outputs": [
    {
     "name": "stdout",
     "output_type": "stream",
     "text": [
      "Model: \"sequential_1\"\n",
      "_________________________________________________________________\n",
      "Layer (type)                 Output Shape              Param #   \n",
      "=================================================================\n",
      "conv2d (Conv2D)              (None, 128, 128, 32)      896       \n",
      "_________________________________________________________________\n",
      "max_pooling2d (MaxPooling2D) (None, 64, 64, 32)        0         \n",
      "_________________________________________________________________\n",
      "conv2d_1 (Conv2D)            (None, 62, 62, 64)        18496     \n",
      "_________________________________________________________________\n",
      "max_pooling2d_1 (MaxPooling2 (None, 31, 31, 64)        0         \n",
      "_________________________________________________________________\n",
      "conv2d_2 (Conv2D)            (None, 29, 29, 64)        36928     \n",
      "_________________________________________________________________\n",
      "max_pooling2d_2 (MaxPooling2 (None, 14, 14, 64)        0         \n",
      "_________________________________________________________________\n",
      "flatten (Flatten)            (None, 12544)             0         \n",
      "_________________________________________________________________\n",
      "dense (Dense)                (None, 128)               1605760   \n",
      "_________________________________________________________________\n",
      "dropout (Dropout)            (None, 128)               0         \n",
      "_________________________________________________________________\n",
      "dense_1 (Dense)              (None, 1)                 129       \n",
      "=================================================================\n",
      "Total params: 1,662,209\n",
      "Trainable params: 1,662,209\n",
      "Non-trainable params: 0\n",
      "_________________________________________________________________\n"
     ]
    }
   ],
   "source": [
    "model.summary()"
   ]
  },
  {
   "cell_type": "code",
   "execution_count": 104,
   "id": "unnecessary-creek",
   "metadata": {},
   "outputs": [],
   "source": [
    "my_img_arr=image.img_to_array(my_img)"
   ]
  },
  {
   "cell_type": "code",
   "execution_count": 105,
   "id": "permanent-cardiff",
   "metadata": {},
   "outputs": [
    {
     "data": {
      "text/plain": [
       "array([[[0., 0., 0.],\n",
       "        [0., 0., 0.],\n",
       "        [0., 0., 0.],\n",
       "        ...,\n",
       "        [0., 0., 0.],\n",
       "        [0., 0., 0.],\n",
       "        [0., 0., 0.]],\n",
       "\n",
       "       [[0., 0., 0.],\n",
       "        [0., 0., 0.],\n",
       "        [0., 0., 0.],\n",
       "        ...,\n",
       "        [0., 0., 0.],\n",
       "        [0., 0., 0.],\n",
       "        [0., 0., 0.]],\n",
       "\n",
       "       [[0., 0., 0.],\n",
       "        [0., 0., 0.],\n",
       "        [0., 0., 0.],\n",
       "        ...,\n",
       "        [0., 0., 0.],\n",
       "        [0., 0., 0.],\n",
       "        [0., 0., 0.]],\n",
       "\n",
       "       ...,\n",
       "\n",
       "       [[0., 0., 0.],\n",
       "        [0., 0., 0.],\n",
       "        [0., 0., 0.],\n",
       "        ...,\n",
       "        [0., 0., 0.],\n",
       "        [0., 0., 0.],\n",
       "        [0., 0., 0.]],\n",
       "\n",
       "       [[0., 0., 0.],\n",
       "        [0., 0., 0.],\n",
       "        [0., 0., 0.],\n",
       "        ...,\n",
       "        [0., 0., 0.],\n",
       "        [0., 0., 0.],\n",
       "        [0., 0., 0.]],\n",
       "\n",
       "       [[0., 0., 0.],\n",
       "        [0., 0., 0.],\n",
       "        [0., 0., 0.],\n",
       "        ...,\n",
       "        [0., 0., 0.],\n",
       "        [0., 0., 0.],\n",
       "        [0., 0., 0.]]], dtype=float32)"
      ]
     },
     "execution_count": 105,
     "metadata": {},
     "output_type": "execute_result"
    }
   ],
   "source": [
    "my_img_arr"
   ]
  },
  {
   "cell_type": "code",
   "execution_count": 106,
   "id": "narrow-light",
   "metadata": {},
   "outputs": [
    {
     "data": {
      "text/plain": [
       "(130, 130, 3)"
      ]
     },
     "execution_count": 106,
     "metadata": {},
     "output_type": "execute_result"
    }
   ],
   "source": [
    "my_img_arr.shape"
   ]
  },
  {
   "cell_type": "code",
   "execution_count": 107,
   "id": "funky-finnish",
   "metadata": {},
   "outputs": [],
   "source": [
    "my_img_arr=np.expand_dims(my_img_arr,axis=0)"
   ]
  },
  {
   "cell_type": "code",
   "execution_count": 108,
   "id": "brilliant-treasury",
   "metadata": {},
   "outputs": [
    {
     "data": {
      "text/plain": [
       "(1, 130, 130, 3)"
      ]
     },
     "execution_count": 108,
     "metadata": {},
     "output_type": "execute_result"
    }
   ],
   "source": [
    "my_img_arr.shape"
   ]
  },
  {
   "cell_type": "code",
   "execution_count": 111,
   "id": "pediatric-bidder",
   "metadata": {},
   "outputs": [
    {
     "data": {
      "text/plain": [
       "array([[False]])"
      ]
     },
     "execution_count": 111,
     "metadata": {},
     "output_type": "execute_result"
    }
   ],
   "source": [
    "model.predict(my_img_arr)>0.5"
   ]
  },
  {
   "cell_type": "code",
   "execution_count": 113,
   "id": "compressed-device",
   "metadata": {},
   "outputs": [
    {
     "data": {
      "text/plain": [
       "{'parasitized': 0, 'uninfected': 1}"
      ]
     },
     "execution_count": 113,
     "metadata": {},
     "output_type": "execute_result"
    }
   ],
   "source": [
    "train_image_gen.class_indices"
   ]
  },
  {
   "cell_type": "markdown",
   "id": "thorough-tribune",
   "metadata": {},
   "source": [
    "#### The cell is parasitized as is evident from the image"
   ]
  },
  {
   "cell_type": "code",
   "execution_count": null,
   "id": "regional-skating",
   "metadata": {},
   "outputs": [],
   "source": []
  }
 ],
 "metadata": {
  "kernelspec": {
   "display_name": "Python 3",
   "language": "python",
   "name": "python3"
  },
  "language_info": {
   "codemirror_mode": {
    "name": "ipython",
    "version": 3
   },
   "file_extension": ".py",
   "mimetype": "text/x-python",
   "name": "python",
   "nbconvert_exporter": "python",
   "pygments_lexer": "ipython3",
   "version": "3.8.6"
  }
 },
 "nbformat": 4,
 "nbformat_minor": 5
}
